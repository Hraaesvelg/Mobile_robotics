{
 "cells": [
  {
   "cell_type": "code",
<<<<<<< HEAD
   "execution_count": 144,
   "id": "465f4a5a",
=======
   "execution_count": 118,
   "id": "7b6d7376",
>>>>>>> origin/main
   "metadata": {},
   "outputs": [
    {
     "data": {
      "text/plain": [
       "Node 02bda1e5-0537-481e-9261-b705b85930bd"
      ]
     },
<<<<<<< HEAD
     "execution_count": 144,
=======
     "execution_count": 118,
>>>>>>> origin/main
     "metadata": {},
     "output_type": "execute_result"
    }
   ],
   "source": [
    "#lancer la communication asynchrone avec thymio\n",
    "from tdmclient import ClientAsync, aw\n",
    "client = ClientAsync()\n",
    "node = await client.wait_for_node()\n",
    "await node.lock()"
   ]
  },
  {
   "cell_type": "code",
<<<<<<< HEAD
   "execution_count": 145,
   "id": "82b09ee1",
=======
   "execution_count": 20,
   "id": "20ce4e7d",
>>>>>>> origin/main
   "metadata": {},
   "outputs": [],
   "source": [
    "# Premade libraries\n",
    "import cv2\n",
    "import time\n",
    "import math\n",
    "import numpy as np\n",
    "from matplotlib import pyplot as plt\n",
    "from shapely.geometry import Polygon, Point, LineString"
   ]
  },
  {
   "cell_type": "code",
<<<<<<< HEAD
   "execution_count": 129,
   "id": "af14ca3f",
=======
   "execution_count": 21,
   "id": "44bffcb3",
>>>>>>> origin/main
   "metadata": {},
   "outputs": [],
   "source": [
    "# Homemade functions\n",
    "import Vision.vision as vs\n",
    "import robot as rbt\n",
    "import Global_Navigation.global_navigation as glb\n",
<<<<<<< HEAD
    "import Motion_Control.thymio_control as ctrl\n"
=======
    "import Motion_Control.thymio_control as ctrl"
>>>>>>> origin/main
   ]
  },
  {
   "cell_type": "code",
   "execution_count": null,
<<<<<<< HEAD
   "id": "13f5044c",
=======
   "id": "0cbd63b5",
>>>>>>> origin/main
   "metadata": {},
   "outputs": [],
   "source": [
    "cap = cv2.VideoCapture(1)\n",
    "vs.get_image(cap)\n",
    "cap.release()"
   ]
  },
  {
   "cell_type": "code",
<<<<<<< HEAD
   "execution_count": 130,
   "id": "136411f2",
=======
   "execution_count": null,
   "id": "87e53ce7",
>>>>>>> origin/main
   "metadata": {},
   "outputs": [],
   "source": [
    "# Main\n",
    "# Data\n",
    "margin = 30\n",
    "\n",
    "# Initialisation\n",
    "# Create an instance of our robot\n",
    "thymio = rbt.RobotNav()\n",
    "# Start the video capture\n",
<<<<<<< HEAD
    "#cap = cv2.VideoCapture(0)"
=======
    "cap = cv2.VideoCapture(0)\n",
    "img = vs.get_image(cap)"
>>>>>>> origin/main
   ]
  },
  {
   "cell_type": "code",
   "execution_count": null,
<<<<<<< HEAD
   "id": "bf077be6",
=======
   "id": "760a6022",
>>>>>>> origin/main
   "metadata": {},
   "outputs": [],
   "source": [
    "while cap.isOpened():\n",
    "    ret, frame = cap.read()\n",
    "    if thymio.get_state() == 0:\n",
    "        thymio.initialisation_step(frame, margin, True)\n",
    "        thymio.increase_step()\n",
    "        thymio.set_state(1)\n",
    "    elif thymio.get_state() == 1:\n",
    "        # We use the position determined by the camera\n",
<<<<<<< HEAD
    "        position, st = vs.detect_start(frame, False, False)\n",
=======
    "        position, two_centres = vs.detect_start(frame, False, False)\n",
>>>>>>> origin/main
    "        frame = glb.draw_thymio(frame, position)\n",
    "        frame = glb.draw_path(frame, thymio.get_path())\n",
    "        # We update the position of the robot\n",
    "        if position is not None:\n",
    "            thymio.update_position_cam(st)\n",
    "        else:\n",
    "            thymio.update_position_kalman()\n",
    "        \"\"\"\n",
    "        # We check if the robot encounter an obstacle\n",
    "            to be implemented\n",
    "        \"\"\"\n",
    "        # We try to reach the next goal\n",
    "        geometry = thymio.get_geometry()\n",
    "        step = thymio.get_crt_step()\n",
    "        path = thymio.get_path()\n",
    "        #ctrl.astolfi((geometry[0], geometry[1]), geometry[2], path[step], node) \n",
    "        #thymio.update_step_respo(15, False)\n",
    "\n",
    "    elif thymio.get_state() == 2:\n",
    "        ctrl.stop_motors(node)\n",
    "        ctrl.leds_blink(node)\n",
    "        print('out')\n",
    "        break # Exits the code\n",
    "\n",
    "\n",
    "    cv2.imshow('frame', frame)\n",
    "    if cv2.waitKey(1) == ord('q'):\n",
    "        break\n",
    "\n",
    "cap.release()\n",
    "cv2.destroyAllWindows()"
   ]
  },
  {
   "cell_type": "code",
   "execution_count": 90,
<<<<<<< HEAD
   "id": "16164d3e",
=======
   "id": "8c3ae54d",
>>>>>>> origin/main
   "metadata": {},
   "outputs": [],
   "source": [
    "ctrl.set_motor_speed(100, -100, node)"
   ]
  },
  {
   "cell_type": "code",
   "execution_count": 106,
<<<<<<< HEAD
   "id": "5bdfd219",
=======
   "id": "63124bee",
>>>>>>> origin/main
   "metadata": {},
   "outputs": [],
   "source": [
    "ctrl.stop_motors(node)"
   ]
  },
  {
   "cell_type": "code",
   "execution_count": 37,
<<<<<<< HEAD
   "id": "19da5476",
=======
   "id": "92f92981",
>>>>>>> origin/main
   "metadata": {},
   "outputs": [],
   "source": [
    "def get_angle2goal(geometry, goal):\n",
    "    \"\"\"\n",
    "    Compute the angle between the curent orientation of the tymio and its next goal\n",
    "    :return: beta the angle btw goal/crt orientation\n",
    "    \"\"\"\n",
    "    beta = math.atan2(goal[1] - geometry[1], goal[0] - geometry[0])\n",
    "    if beta - geometry[2] < -np.pi:\n",
    "        beta = -(beta - geometry[2] + np.pi)\n",
    "    elif beta - geometry[2] > np.pi:\n",
    "        beta = -(beta - geometry[2] - np.pi)\n",
    "    else:\n",
    "        beta = beta - geometry[2]\n",
    "    return beta"
   ]
  },
  {
   "cell_type": "code",
   "execution_count": 56,
<<<<<<< HEAD
   "id": "f2eaab59",
=======
   "id": "bc1ac25f",
>>>>>>> origin/main
   "metadata": {},
   "outputs": [],
   "source": [
    "def get_correct_orientation(beta, node, speed, tol):\n",
    "    if abs(beta) < tol:\n",
    "        print(\"right angle\")\n",
    "        ctrl.stop_motors(node)\n",
    "        return(True)\n",
    "    if beta < 0 :\n",
    "        ctrl.set_motor_speed(speed, -speed, node)\n",
    "        return(False)\n",
    "    elif beta > 0:\n",
    "        ctrl.set_motor_speed(-speed, speed, node)\n",
    "        return(False)"
   ]
  },
  {
   "cell_type": "code",
   "execution_count": 70,
<<<<<<< HEAD
   "id": "bb96c63b",
=======
   "id": "c9beae07",
>>>>>>> origin/main
   "metadata": {},
   "outputs": [],
   "source": [
    "def get_distance(pos, goal, tol, speed, node):\n",
    "    dist = np.linalg.norm((goal[0]-pos[0], goal[1]-pos[1]))\n",
    "    if dist < tol:\n",
    "        ctrl.stop_motors(node)\n",
    "        return True\n",
    "    else:\n",
    "        ctrl.set_motor_speed(speed, speed, node)\n",
    "        return False"
   ]
  },
  {
   "cell_type": "code",
   "execution_count": 119,
<<<<<<< HEAD
   "id": "3594c867",
=======
   "id": "d2d92fd9",
>>>>>>> origin/main
   "metadata": {},
   "outputs": [
    {
     "name": "stdout",
     "output_type": "stream",
     "text": [
      "0.7853981633974483\n",
      "0.7853981633974483\n",
      "0.6853981633974483\n",
      "0.5853981633974483\n",
      "0.48539816339744835\n",
      "0.38539816339744837\n",
      "0.2853981633974484\n",
      "0.18539816339744838\n",
      "[0, 0]\n",
      "[1, 1]\n",
      "[2, 2]\n",
      "[3, 3]\n",
      "[4, 4]\n",
      "[5, 5]\n",
      "[6, 6]\n",
      "[7, 7]\n",
      "[8, 8]\n",
      "[9, 9]\n"
     ]
<<<<<<< HEAD
    },
    {
     "name": "stderr",
     "output_type": "stream",
     "text": [
      "Exception in thread Exception in thread Exception in thread Exception in thread Thread-8:\n",
      "Traceback (most recent call last):\n",
      "  File \"C:\\Users\\Valentin\\anaconda3\\lib\\threading.py\", line 973, in _bootstrap_inner\n",
      "Thread-10:\n",
      "Traceback (most recent call last):\n",
      "Thread-9:\n",
      "Traceback (most recent call last):\n",
      "Thread-12:\n",
      "Traceback (most recent call last):\n",
      "  File \"C:\\Users\\Valentin\\anaconda3\\lib\\threading.py\", line 973, in _bootstrap_inner\n",
      "  File \"C:\\Users\\Valentin\\anaconda3\\lib\\threading.py\", line 973, in _bootstrap_inner\n",
      "  File \"C:\\Users\\Valentin\\anaconda3\\lib\\threading.py\", line 973, in _bootstrap_inner\n",
      "            self.run()\n",
      "  File \"C:\\Users\\Valentin\\anaconda3\\lib\\site-packages\\tdmclient\\tcp.py\", line 73, in run\n",
      "self.run()\n",
      "  File \"C:\\Users\\Valentin\\anaconda3\\lib\\site-packages\\tdmclient\\tcp.py\", line 73, in run\n",
      "self.run()\n",
      "  File \"C:\\Users\\Valentin\\anaconda3\\lib\\site-packages\\tdmclient\\tcp.py\", line 73, in run\n",
      "    self.run()\n",
      "  File \"C:\\Users\\Valentin\\anaconda3\\lib\\site-packages\\tdmclient\\tcp.py\", line 73, in run\n",
      "    packet = self.read_packet()\n",
      "  File \"C:\\Users\\Valentin\\anaconda3\\lib\\site-packages\\tdmclient\\tcp.py\", line 66, in read_packet\n",
      "        packet = self.read_packet()\n",
      "    packet = self.read_packet()\n",
      "  File \"C:\\Users\\Valentin\\anaconda3\\lib\\site-packages\\tdmclient\\tcp.py\", line 66, in read_packet\n",
      "packet = self.read_packet()\n",
      "  File \"C:\\Users\\Valentin\\anaconda3\\lib\\site-packages\\tdmclient\\tcp.py\", line 66, in read_packet\n",
      "  File \"C:\\Users\\Valentin\\anaconda3\\lib\\site-packages\\tdmclient\\tcp.py\", line 66, in read_packet\n",
      "    raise error\n",
      "  File \"C:\\Users\\Valentin\\anaconda3\\lib\\site-packages\\tdmclient\\tcp.py\", line 59, in read_packet\n",
      "    raise error\n",
      "  File \"C:\\Users\\Valentin\\anaconda3\\lib\\site-packages\\tdmclient\\tcp.py\", line 59, in read_packet\n",
      "    raise error\n",
      "  File \"C:\\Users\\Valentin\\anaconda3\\lib\\site-packages\\tdmclient\\tcp.py\", line 59, in read_packet\n",
      "    packet_len = self.read_uint32()\n",
      "  File \"C:\\Users\\Valentin\\anaconda3\\lib\\site-packages\\tdmclient\\tcp.py\", line 46, in read_uint32\n",
      "    raise error    \n",
      "  File \"C:\\Users\\Valentin\\anaconda3\\lib\\site-packages\\tdmclient\\tcp.py\", line 59, in read_packet\n",
      "    packet_len = self.read_uint32()\n",
      "  File \"C:\\Users\\Valentin\\anaconda3\\lib\\site-packages\\tdmclient\\tcp.py\", line 46, in read_uint32\n",
      "packet_len = self.read_uint32()\n",
      "  File \"C:\\Users\\Valentin\\anaconda3\\lib\\site-packages\\tdmclient\\tcp.py\", line 46, in read_uint32\n",
      "        packet_len = self.read_uint32()\n",
      "  File \"C:\\Users\\Valentin\\anaconda3\\lib\\site-packages\\tdmclient\\tcp.py\", line 46, in read_uint32\n",
      "b = self.io.read(4)\n",
      "  File \"C:\\Users\\Valentin\\anaconda3\\lib\\site-packages\\tdmclient\\tcp.py\", line 99, in read\n",
      "    b = self.io.read(4)\n",
      "      File \"C:\\Users\\Valentin\\anaconda3\\lib\\site-packages\\tdmclient\\tcp.py\", line 99, in read\n",
      "b = self.io.read(4)\n",
      "  File \"C:\\Users\\Valentin\\anaconda3\\lib\\site-packages\\tdmclient\\tcp.py\", line 99, in read\n",
      "    b = self.io.read(4)\n",
      "  File \"C:\\Users\\Valentin\\anaconda3\\lib\\site-packages\\tdmclient\\tcp.py\", line 99, in read\n",
      "    return self.socket.recv(n)\n",
      "ConnectionResetError: [WinError 10054] Une connexion existante a dû être fermée par l’hôte distant\n",
      "    return self.socket.recv(n)\n",
      "ConnectionResetError: [WinError 10054] Une connexion existante a dû être fermée par l’hôte distant\n",
      "        return self.socket.recv(n)\n",
      "ConnectionResetError: [WinError 10054] Une connexion existante a dû être fermée par l’hôte distant\n",
      "return self.socket.recv(n)\n",
      "ConnectionResetError: [WinError 10054] Une connexion existante a dû être fermée par l’hôte distant\n"
     ]
=======
>>>>>>> origin/main
    }
   ],
   "source": [
    "speed = 50\n",
    "tol = 0.1\n",
    "\n",
    "geometry = (0,0,0)\n",
    "goal = (10,10)\n",
    "beta = get_angle2goal(geometry, goal)\n",
    "print(beta)\n",
    "pos = [geometry[0], geometry[1]]\n",
    "\n",
    "while(abs(beta) > tol):\n",
    "    print(beta)\n",
    "    get_correct_orientation(beta, node, speed, tol)\n",
    "    beta = beta - 0.1\n",
    "ctrl.stop_motors(node)\n",
    "\n",
    "while(np.linalg.norm((goal[0]-pos[0], goal[1]-pos[1]))):\n",
    "    print(pos)\n",
    "    pos[0] = pos[0] + 1\n",
    "    pos[1] = pos[1] + 1\n",
    "    get_distance(pos,goal,1,speed,node)\n"
   ]
  },
  {
   "cell_type": "code",
<<<<<<< HEAD
   "execution_count": 146,
   "id": "6b795392",
   "metadata": {},
   "outputs": [
    {
     "name": "stdout",
     "output_type": "stream",
     "text": [
      "0\n",
      "0\n",
      "0\n",
      "0\n",
      "0\n",
      "0\n",
      "0\n",
      "0\n"
     ]
    }
   ],
   "source": [
    "value = ctrl.get_prox_sensors(node, client)\n",
    "print(value[1])\n",
    "for i in range(7):\n",
    "    print(value[i])"
   ]
  },
  {
   "cell_type": "code",
   "execution_count": null,
   "id": "35b43184",
=======
   "execution_count": null,
   "id": "5a44c859",
>>>>>>> origin/main
   "metadata": {},
   "outputs": [],
   "source": []
  },
  {
   "cell_type": "code",
   "execution_count": null,
<<<<<<< HEAD
   "id": "586530f4",
=======
   "id": "16da6353",
>>>>>>> origin/main
   "metadata": {},
   "outputs": [],
   "source": []
  },
  {
   "cell_type": "code",
   "execution_count": null,
<<<<<<< HEAD
   "id": "581a8ff8",
=======
   "id": "2a3086de",
>>>>>>> origin/main
   "metadata": {},
   "outputs": [],
   "source": []
  }
 ],
 "metadata": {
  "kernelspec": {
   "display_name": "Python 3 (ipykernel)",
   "language": "python",
   "name": "python3"
  },
  "language_info": {
   "codemirror_mode": {
    "name": "ipython",
    "version": 3
   },
   "file_extension": ".py",
   "mimetype": "text/x-python",
   "name": "python",
   "nbconvert_exporter": "python",
   "pygments_lexer": "ipython3",
   "version": "3.9.7"
  }
 },
 "nbformat": 4,
 "nbformat_minor": 5
}
