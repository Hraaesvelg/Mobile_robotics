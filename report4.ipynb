{
 "cells": [
  {
   "cell_type": "code",
   "execution_count": 1,
   "id": "f7396397",
   "metadata": {},
   "outputs": [
    {
     "data": {
      "text/plain": [
       "Node a06ad155-57cb-41db-bb46-6fe2b877b0e8"
      ]
     },
     "execution_count": 1,
     "metadata": {},
     "output_type": "execute_result"
    }
   ],
   "source": [
    "#lancer la communication asynchrone avec thymio\n",
    "from tdmclient import ClientAsync, aw\n",
    "client = ClientAsync()\n",
    "node = await client.wait_for_node()\n",
    "await node.lock()"
   ]
  },
  {
   "cell_type": "code",
   "execution_count": 10,
   "id": "2cb2af0b",
   "metadata": {},
   "outputs": [],
   "source": [
    "# Premade libraries\n",
    "import cv2\n",
    "import time\n",
    "import math\n",
    "import numpy as np\n",
    "from matplotlib import pyplot as plt\n",
    "from shapely.geometry import Polygon, Point, LineString\n",
    "\n",
    "# Homemade functions\n",
    "import Vision.vision as vs\n",
    "import robot as rbt\n",
    "import Global_Navigation.global_navigation as glb\n",
    "import Motion_Control.thymio_control as ctrl"
   ]
  },
  {
   "cell_type": "code",
   "execution_count": 11,
   "id": "a2712dfa",
   "metadata": {},
   "outputs": [],
   "source": [
    "def get_angle2goal(geometry, goal):\n",
    "    \"\"\"\n",
    "\n",
    "    Compute the angle between thecurent orientation of the tymio and its next goal\n",
    "    :return: beta the angle btw goal/crt orientation\n",
    "    \"\"\"\n",
    "    beta = math.atan2(goal[1] - geometry[1], goal[0] - geometry[0])\n",
    "    if beta - geometry[2] < -np.pi:\n",
    "        beta = -(beta - geometry[2] + np.pi)\n",
    "    elif beta - geometry[2] > np.pi:\n",
    "        beta = -(beta - geometry[2] - np.pi)\n",
    "    else:\n",
    "        beta = beta - geometry[2]\n",
    "    return beta\n",
    "\n",
    "def get_correct_orientation(beta, node, speed, tol):\n",
    "    if abs(beta) < tol:\n",
    "        #print(\"right angle\")\n",
    "        #ctrl.stop_motors(node)\n",
    "        return(True)\n",
    "    if beta < 0 :\n",
    "        ctrl.set_motor_speed(speed, -speed, node)\n",
    "        return(False)\n",
    "    elif beta > 0:\n",
    "        \n",
    "        ctrl.set_motor_speed(-speed, speed, node)\n",
    "        return(False)\n",
    "    \n",
    "def test_sensors(node,client, tolerance):\n",
    "    sensor = ctrl.get_prox_sensors(node,client)\n",
    "    for i in range(5):\n",
    "        if sensor[i] > tolerance:\n",
    "             return False \n",
    "    return True\n",
    "    \n",
    "def get_distance(pos, goal, tol, speed, node):\n",
    "    dist = np.linalg.norm((goal[0]-pos[0], goal[1]-pos[1]))\n",
    "    if dist < tol:\n",
    "        ctrl.stop_motors(node)\n",
    "        return True\n",
    "    else:\n",
    "        spLeft = speed\n",
    "        spRight = speed\n",
    "        for i in range(5):\n",
    "            a = 4-i\n",
    "            sensor = ctrl.get_prox_sensors(node,client)\n",
    "            spLeft += sensor[i] * obstSpeedGain[i] // 100\n",
    "            spRight += sensor[i] * obstSpeedGain[a]//100\n",
    "        ctrl.set_motor_speed(spRight, spLeft, node)\n",
    "        if(test_sensors(node, client, 3000)):\n",
    "            ctrl.set_motor_speed(speed, speed, node)\n",
    "            aw(client.sleep(0.5))\n",
    "        return False\n",
    "    \n",
    "\n",
    "        "
   ]
  },
  {
   "cell_type": "code",
   "execution_count": 12,
   "id": "70fb5ae4",
   "metadata": {},
   "outputs": [],
   "source": [
    "cap = cv2.VideoCapture(0)\n",
    "img = vs.get_image(cap)\n",
    "margin = 10\n",
    "speedGain = 2     # gain used with ground gradient\n",
    "obstSpeedGain = np.array([6,4,-2,-6,-8])\n",
    "thymio = rbt.RobotNav(node,client)"
   ]
  },
  {
   "cell_type": "code",
   "execution_count": 13,
   "id": "06e48ec7",
   "metadata": {},
   "outputs": [
    {
     "name": "stdout",
     "output_type": "stream",
     "text": [
      "[[[194.5 436.5  26.1]\n",
      "  [400.5 161.5  24.8]\n",
      "  [400.5 112.5  12.5]\n",
      "  [257.5 361.5  14.5]]]\n",
      "revoir hough circles para\n"
     ]
    },
    {
     "ename": "TypeError",
     "evalue": "'int' object is not subscriptable",
     "output_type": "error",
     "traceback": [
      "\u001b[1;31m---------------------------------------------------------------------------\u001b[0m",
      "\u001b[1;31mTypeError\u001b[0m                                 Traceback (most recent call last)",
      "\u001b[1;32m~\\AppData\\Local\\Temp/ipykernel_26004/1267393119.py\u001b[0m in \u001b[0;36m<module>\u001b[1;34m\u001b[0m\n\u001b[0;32m      5\u001b[0m \u001b[1;33m\u001b[0m\u001b[0m\n\u001b[0;32m      6\u001b[0m     \u001b[1;32mif\u001b[0m \u001b[0mthymio\u001b[0m\u001b[1;33m.\u001b[0m\u001b[0mget_state\u001b[0m\u001b[1;33m(\u001b[0m\u001b[1;33m)\u001b[0m \u001b[1;33m==\u001b[0m \u001b[1;36m0\u001b[0m\u001b[1;33m:\u001b[0m\u001b[1;33m\u001b[0m\u001b[1;33m\u001b[0m\u001b[0m\n\u001b[1;32m----> 7\u001b[1;33m         \u001b[0mthymio\u001b[0m\u001b[1;33m.\u001b[0m\u001b[0minitialisation_step\u001b[0m\u001b[1;33m(\u001b[0m\u001b[0mimg\u001b[0m\u001b[1;33m,\u001b[0m \u001b[0mmargin\u001b[0m\u001b[1;33m,\u001b[0m \u001b[1;32mTrue\u001b[0m\u001b[1;33m)\u001b[0m\u001b[1;33m\u001b[0m\u001b[1;33m\u001b[0m\u001b[0m\n\u001b[0m\u001b[0;32m      8\u001b[0m         \u001b[0mthymio\u001b[0m\u001b[1;33m.\u001b[0m\u001b[0mset_state\u001b[0m\u001b[1;33m(\u001b[0m\u001b[1;36m1\u001b[0m\u001b[1;33m)\u001b[0m\u001b[1;33m\u001b[0m\u001b[1;33m\u001b[0m\u001b[0m\n\u001b[0;32m      9\u001b[0m         \u001b[0mpath\u001b[0m \u001b[1;33m=\u001b[0m \u001b[0mthymio\u001b[0m\u001b[1;33m.\u001b[0m\u001b[0mget_path\u001b[0m\u001b[1;33m(\u001b[0m\u001b[1;33m)\u001b[0m\u001b[1;33m\u001b[0m\u001b[1;33m\u001b[0m\u001b[0m\n",
      "\u001b[1;32m~\\Documents\\EPFL\\CoursMaster\\Basic_mobile_robotics\\projet_bis\\Mobile_robotics\\robot.py\u001b[0m in \u001b[0;36minitialisation_step\u001b[1;34m(self, img, margin, show)\u001b[0m\n\u001b[0;32m    234\u001b[0m         \u001b[0mstart\u001b[0m\u001b[1;33m,\u001b[0m \u001b[0mtarget\u001b[0m\u001b[1;33m,\u001b[0m \u001b[0mshapes\u001b[0m\u001b[1;33m,\u001b[0m \u001b[0msize\u001b[0m\u001b[1;33m,\u001b[0m \u001b[0mstart_points\u001b[0m \u001b[1;33m=\u001b[0m \u001b[0mvs\u001b[0m\u001b[1;33m.\u001b[0m\u001b[0mtransmit_data\u001b[0m\u001b[1;33m(\u001b[0m\u001b[0mimg\u001b[0m\u001b[1;33m,\u001b[0m \u001b[1;32mFalse\u001b[0m\u001b[1;33m,\u001b[0m \u001b[0mmargin\u001b[0m\u001b[1;33m)\u001b[0m\u001b[1;33m\u001b[0m\u001b[1;33m\u001b[0m\u001b[0m\n\u001b[0;32m    235\u001b[0m         \u001b[1;31m# Initialize the starting position\u001b[0m\u001b[1;33m\u001b[0m\u001b[1;33m\u001b[0m\u001b[0m\n\u001b[1;32m--> 236\u001b[1;33m         \u001b[0mself\u001b[0m\u001b[1;33m.\u001b[0m\u001b[0minitialize_starting_pos\u001b[0m\u001b[1;33m(\u001b[0m\u001b[0mstart_points\u001b[0m\u001b[1;33m,\u001b[0m \u001b[0mstart\u001b[0m\u001b[1;33m)\u001b[0m\u001b[1;33m\u001b[0m\u001b[1;33m\u001b[0m\u001b[0m\n\u001b[0m\u001b[0;32m    237\u001b[0m         \u001b[1;31m# Set the Goal of our robot\u001b[0m\u001b[1;33m\u001b[0m\u001b[1;33m\u001b[0m\u001b[0m\n\u001b[0;32m    238\u001b[0m         \u001b[0mself\u001b[0m\u001b[1;33m.\u001b[0m\u001b[0mset_goal\u001b[0m\u001b[1;33m(\u001b[0m\u001b[0mtarget\u001b[0m\u001b[1;33m)\u001b[0m\u001b[1;33m\u001b[0m\u001b[1;33m\u001b[0m\u001b[0m\n",
      "\u001b[1;32m~\\Documents\\EPFL\\CoursMaster\\Basic_mobile_robotics\\projet_bis\\Mobile_robotics\\robot.py\u001b[0m in \u001b[0;36minitialize_starting_pos\u001b[1;34m(self, cam_data, center)\u001b[0m\n\u001b[0;32m    162\u001b[0m         \"\"\"\n\u001b[0;32m    163\u001b[0m         \u001b[1;32mif\u001b[0m \u001b[0mcam_data\u001b[0m \u001b[1;32mis\u001b[0m \u001b[1;32mnot\u001b[0m \u001b[1;32mNone\u001b[0m\u001b[1;33m:\u001b[0m\u001b[1;33m\u001b[0m\u001b[1;33m\u001b[0m\u001b[0m\n\u001b[1;32m--> 164\u001b[1;33m             \u001b[0mself\u001b[0m\u001b[1;33m.\u001b[0m\u001b[0mtheta_img\u001b[0m \u001b[1;33m=\u001b[0m \u001b[0mmath\u001b[0m\u001b[1;33m.\u001b[0m\u001b[0matan2\u001b[0m\u001b[1;33m(\u001b[0m\u001b[0mcam_data\u001b[0m\u001b[1;33m[\u001b[0m\u001b[1;36m0\u001b[0m\u001b[1;33m]\u001b[0m\u001b[1;33m[\u001b[0m\u001b[1;36m1\u001b[0m\u001b[1;33m]\u001b[0m \u001b[1;33m-\u001b[0m \u001b[0mcam_data\u001b[0m\u001b[1;33m[\u001b[0m\u001b[1;36m1\u001b[0m\u001b[1;33m]\u001b[0m\u001b[1;33m[\u001b[0m\u001b[1;36m1\u001b[0m\u001b[1;33m]\u001b[0m\u001b[1;33m,\u001b[0m \u001b[0mcam_data\u001b[0m\u001b[1;33m[\u001b[0m\u001b[1;36m0\u001b[0m\u001b[1;33m]\u001b[0m\u001b[1;33m[\u001b[0m\u001b[1;36m0\u001b[0m\u001b[1;33m]\u001b[0m \u001b[1;33m-\u001b[0m \u001b[0mcam_data\u001b[0m\u001b[1;33m[\u001b[0m\u001b[1;36m1\u001b[0m\u001b[1;33m]\u001b[0m\u001b[1;33m[\u001b[0m\u001b[1;36m0\u001b[0m\u001b[1;33m]\u001b[0m\u001b[1;33m)\u001b[0m\u001b[1;33m\u001b[0m\u001b[1;33m\u001b[0m\u001b[0m\n\u001b[0m\u001b[0;32m    165\u001b[0m             \u001b[0mself\u001b[0m\u001b[1;33m.\u001b[0m\u001b[0mx_img\u001b[0m \u001b[1;33m=\u001b[0m \u001b[0mcenter\u001b[0m\u001b[1;33m[\u001b[0m\u001b[1;36m0\u001b[0m\u001b[1;33m]\u001b[0m\u001b[1;33m\u001b[0m\u001b[1;33m\u001b[0m\u001b[0m\n\u001b[0;32m    166\u001b[0m             \u001b[0mself\u001b[0m\u001b[1;33m.\u001b[0m\u001b[0my_img\u001b[0m \u001b[1;33m=\u001b[0m \u001b[0mcenter\u001b[0m\u001b[1;33m[\u001b[0m\u001b[1;36m1\u001b[0m\u001b[1;33m]\u001b[0m\u001b[1;33m\u001b[0m\u001b[1;33m\u001b[0m\u001b[0m\n",
      "\u001b[1;31mTypeError\u001b[0m: 'int' object is not subscriptable"
     ]
    }
   ],
   "source": [
    "i = 0 #step vis graph\n",
    "path = 0\n",
    "while cap.isOpened():\n",
    "    ret, frame = cap.read()\n",
    "    \n",
    "    if thymio.get_state() == 0:\n",
    "        thymio.initialisation_step(img, margin, True)\n",
    "        thymio.set_state(1)\n",
    "        path = thymio.get_path()\n",
    "        print(\"fin state\")\n",
    "    \n",
    "    if thymio.get_state() == 1:  #motion control commence\n",
    "        pos_thy, two_centres, test_detect = vs.detect_start1(frame, False)  #recupere pos thymio, #test_detect bool a false si thymio pas detetc\n",
    "        frame = glb.draw_path(frame, thymio.get_path()) #dessine chemin du thymio new fenetre\n",
    "        real_path = thymio.get_real_path()\n",
    "        real_path_kalman = thymio.get_real_path_kalman()\n",
    "        frame = glb.draw_thymio(frame, real_path)   # dessine point thymio new fenetre\n",
    "        frame = glb.draw_thymio(frame, real_path_kalman)   # dessine point thymio new fenetre\n",
    "        \n",
    "        thymio.update_position_cam(two_centres)  #update pos thymio et angle dans la classe robot\n",
    "        if len(path) > (i+1):\n",
    "            next_goal = (path[i+1].x,path[i+1].y) \n",
    "            angle = get_angle2goal(thymio.get_geometry(), next_goal)  #angle entre thymio et point\n",
    "            get_correct_orientation(angle, node, 50, 0.2)\n",
    "            \n",
    "            if get_correct_orientation(angle, node, 50, 0.2):\n",
    "                print(\"avance\")\n",
    "                \n",
    "                \n",
    "                get_distance(thymio.get_geometry(), next_goal, 30, 200, node)\n",
    "                \n",
    "                if get_distance(thymio.get_geometry(), next_goal, 30, 200, node):\n",
    "                    i = i + 1\n",
    "                    if i == (len(path)-1):\n",
    "                        thymio.set_state(2)\n",
    "                        ctrl.stop_motors(node)\n",
    "                        print(\"arrivee\")\n",
    "                        print(thymio.get_state())\n",
    "                        break      \n",
    "        \n",
    "        \n",
    "    cv2.imshow('frame',frame)     \n",
    "    if cv2.waitKey(1) == ord('q'):\n",
    "        ctrl.stop_motors(node)\n",
    "        break\n",
    "        \n",
    "cap.release()\n",
    "cv2.destroyAllWindows()"
   ]
  },
  {
   "cell_type": "code",
   "execution_count": 3,
   "id": "4315deed",
   "metadata": {},
   "outputs": [],
   "source": [
    "ctrl.stop_motors(node)"
   ]
  },
  {
   "cell_type": "code",
   "execution_count": null,
   "id": "6133f1f8",
   "metadata": {},
   "outputs": [],
   "source": [
    "def avoidance(node, client):\n",
    "    sensor = ctrl.get_prox_sensors(node,client)\n",
    "    "
   ]
  }
 ],
 "metadata": {
  "kernelspec": {
   "display_name": "Python 3 (ipykernel)",
   "language": "python",
   "name": "python3"
  },
  "language_info": {
   "codemirror_mode": {
    "name": "ipython",
    "version": 3
   },
   "file_extension": ".py",
   "mimetype": "text/x-python",
   "name": "python",
   "nbconvert_exporter": "python",
   "pygments_lexer": "ipython3",
   "version": "3.9.7"
  }
 },
 "nbformat": 4,
 "nbformat_minor": 5
}
