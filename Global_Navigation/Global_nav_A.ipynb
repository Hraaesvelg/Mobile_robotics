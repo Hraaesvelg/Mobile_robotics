{
 "cells": [
  {
   "cell_type": "code",
   "execution_count": 1,
   "id": "3168f1ec",
   "metadata": {},
   "outputs": [],
   "source": [
    "from pathfinding.core.diagonal_movement import DiagonalMovement\n",
    "from pathfinding.core.grid import Grid\n",
    "from pathfinding.finder.a_star import AStarFinder"
   ]
  },
  {
   "cell_type": "code",
   "execution_count": 8,
   "id": "eb287c17",
   "metadata": {},
   "outputs": [],
   "source": [
    "matrix = [\n",
    "      [1, 1, 1, 1, 1, 0],\n",
    "      [0, 0, 0, 1, 1, 0],\n",
    "      [1, 1, 1, 1, 1, 1],\n",
    "      [1, 1, 1, 0, 0, 0],\n",
    "      [1, 0, 1, 1, 1, 1],\n",
    "      [0, 0, 1, 1, 1, 1]\n",
    "]\n",
    "grid = Grid(matrix=matrix)"
   ]
  },
  {
   "cell_type": "code",
   "execution_count": 9,
   "id": "6dd71b52",
   "metadata": {},
   "outputs": [],
   "source": [
    "start = grid.node(0, 0)\n",
    "end = grid.node(5, 5)\n",
    "\n",
    "finder = AStarFinder(diagonal_movement=DiagonalMovement.always)\n",
    "path, runs = finder.find_path(start, end, grid)"
   ]
  },
  {
   "cell_type": "code",
   "execution_count": 10,
   "id": "b68a6c37",
   "metadata": {},
   "outputs": [
    {
     "name": "stdout",
     "output_type": "stream",
     "text": [
      "operations: 16 path length: 9\n",
      "+------+\n",
      "|sxx  #|\n",
      "|###x #|\n",
      "|   x  |\n",
      "|  x###|\n",
      "| # xx |\n",
      "|##   e|\n",
      "+------+\n"
     ]
    }
   ],
   "source": [
    "print('operations:', runs, 'path length:', len(path))\n",
    "print(grid.grid_str(path=path, start=start, end=end))"
   ]
  },
  {
   "cell_type": "code",
   "execution_count": 11,
   "id": "e0d52e11",
   "metadata": {},
   "outputs": [
    {
     "name": "stdout",
     "output_type": "stream",
     "text": [
      "[(0, 0), (1, 0), (2, 0), (3, 1), (3, 2), (2, 3), (3, 4), (4, 4), (5, 5)]\n"
     ]
    }
   ],
   "source": [
    "print(path)"
   ]
  },
  {
   "cell_type": "code",
   "execution_count": null,
   "id": "67df290c",
   "metadata": {},
   "outputs": [],
   "source": [
    "def find_path_astar (self, grid, start_point, goal_point):\n",
    "    \"\"\"\n",
    "    Find the shortest path from the starting point to the goal\n",
    "    \n",
    "    input: grid with 1=free, 0 or less = obstacle / starting point/ ending point\n",
    "    output : list of coordinates cooresponding to path \n",
    "    \n",
    "    \"\"\"\n",
    "    grid = Grid(matrix=matrix)\n",
    "    start = grid.node(start_point)\n",
    "    end = grid.node(goal_point)\n",
    "\n",
    "    finder = AStarFinder(diagonal_movement=DiagonalMovement.always)\n",
    "    path, runs = finder.find_path(start, end, grid)"
   ]
  }
 ],
 "metadata": {
  "kernelspec": {
   "display_name": "Python 3 (ipykernel)",
   "language": "python",
   "name": "python3"
  },
  "language_info": {
   "codemirror_mode": {
    "name": "ipython",
    "version": 3
   },
   "file_extension": ".py",
   "mimetype": "text/x-python",
   "name": "python",
   "nbconvert_exporter": "python",
   "pygments_lexer": "ipython3",
   "version": "3.9.7"
  }
 },
 "nbformat": 4,
 "nbformat_minor": 5
}
