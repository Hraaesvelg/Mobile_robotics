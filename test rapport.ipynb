{
 "cells": [
  {
   "cell_type": "markdown",
   "id": "aba453d8",
   "metadata": {},
   "source": [
    "<img src=\"pictures/logo_epfl.png\" width=200/>"
   ]
  },
  {
   "cell_type": "markdown",
   "id": "911e98a5",
   "metadata": {},
   "source": [
    "# Final Project - Basics of Mobile Robotics "
   ]
  },
  {
   "cell_type": "markdown",
   "id": "5120d31f",
   "metadata": {},
   "source": [
    "**Authors:** Valentin Suppa-Gallezot, Mehdi El Bouari, Thibault Golaz, Louis Marchand  \n"
   ]
  },
  {
   "cell_type": "markdown",
   "id": "b3abc269",
   "metadata": {},
   "source": [
    "<img src=\"pictures/thymio_intro.jpg\" width=400/>"
   ]
  },
  {
   "cell_type": "markdown",
   "id": "529e6c14",
   "metadata": {},
   "source": [
    "### Table of Contents <a class=\"anchor\" id=\"table\"></a>\n",
    "\n",
    "* [0. Introduction](#Introduction)\n",
    "    * [0.0 Guidlines](#Guidlines)\n",
    "    * [0.1. General overview of the code](#G_O)\n",
    "    * [0.2. Setup of the map](#map)\n",
    "    * [0.3. Essensial Library and inclusion](#library)\n",
    "\n",
    "* [1. Vision](#vision)\n",
    "    * [1.0 Most important function in Vision](#vis_function)\n",
    "    * [1.1. Start and target Detection](#start_detect)\n",
    "    * [1.2 Hough Transform](#hough)\n",
    "    * [1.3 Template matching](#template)\n",
    "\n",
    "* [2. Global Navigation](#global_nav)\n",
    "    * [2.0. Main functions](#global_function)\n",
    "    * [2.1. PyVisgraph library](#pyvisgraph)\n",
    "    * [2.2 Implementation of the code](#global_code)\n",
    "        * [2.2.1. The Dijkstra's algorithm](#djisktra)\n",
    "        * [2.2.2. Visibility graph](#visibility)\n",
    "        \n",
    "* [3. Motion Control](#motion)\n",
    "    * [3.0 Astolfi Controller](#astolfi)\n",
    "    * [3.1 Auxiliary control functions ](#control_aux)\n",
    "\n",
    "* [4. Local obstacle avoidance ](#local_avoidance)\n",
    "\n",
    "* [5. Filtering](#filtering)\n",
    "\n",
    "* [6. Whole code](#whole_code)\n",
    "\n",
    "* [7. Conclusion](#conclusion)"
   ]
  },
  {
   "cell_type": "markdown",
   "id": "8854e58d",
   "metadata": {},
   "source": [
    "## 0. Introduction <a class=\"anchor\" id=\"Introduction\"></a>"
   ]
  },
  {
   "cell_type": "markdown",
   "id": "f6e94916",
   "metadata": {},
   "source": [
    "### 0.0. Guidlines <a class=\"anchor\" id=\"Guidlines\"></a>"
   ]
  },
  {
   "cell_type": "markdown",
   "id": "1227e870",
   "metadata": {},
   "source": [
    "For this project we had to construct and implement a mobile robot able to perform path finding method and movement based on vision-oriented programs. The robot we are using here is a Thymio-II robot.\n",
    "  \n",
    "The code will follow these guidelines:   \n",
    "  \n",
    "- **Create an environnment:** Our environnement is made of the thymio detectable thank to 2 green circles, obstacles (represented as black sheets of paper), a target represented by a red square of paper and 3d obstacles used to test local navigation (detected by the thymio sensors).  \n",
    "\n",
    "- **Find the best path:** The objective is that the Thymio goes its initial position in the map to a target in the environement.  \n",
    "- **Motion control:** To control the robot we use functions to correct the angle and close the position to the next goal that is updated upon reach.  \n",
    "\n",
    "- **Kalman filter:** In the case where we don't have data from the camera we use, we apply a Kalman filter knowing the last detected/predicted position and the speed given by the robot to compute the next position.  \n",
    "\n",
    "- **Local navigation:** While moving, the Thymio has to use local navigation to avoid physical obstacles that can be put in its path at any point in time.  \n"
   ]
  },
  {
   "cell_type": "markdown",
   "id": "7419c9d4",
   "metadata": {},
   "source": [
    "### 0.1. General overview of the code <a class=\"anchor\" id=\"G_O\"></a>"
   ]
  },
  {
   "cell_type": "markdown",
   "id": "1d47155b",
   "metadata": {},
   "source": [
    "<img src=\"pictures/Diagram.png\" width=700/>"
   ]
  },
  {
   "cell_type": "markdown",
   "id": "ac510fba",
   "metadata": {},
   "source": [
    "On the previous diagram you can see the global architechture of the code that we have divided in five parts. They are the following: Vision, Global_Navigation, Filtering, Local_Navigation and motion control. These part will be studied in details in the next chatpers.  \n",
    "\n",
    "We have made a class corresponding to our thymio to have a simpler acces to his state, attributes and methods. Moreover we decided to choose a finite state machine approach for the general structure of the code. During the main while (i.e the time the video flow is opened) the state of the robot (_self.state_) is evaluated to make it more responsive.  \n",
    "The machine states are the following:  \n",
    "\n",
    "- **State 0 :** In this step we are just after the opennig of the video's flow and the instanciation of the thymio, we have yet to visualize the obstacles, target and thymio initial position. We use some hough transforms and template matching to detect the obstacles, the circles representing the thymio, and the red square for the target. Once the data are transmited to the global_navigation functions, we can compute the visibility graph and compute the shortest path using a Djisktra algorithm (All these step are implemented in the PyVisgraph library). The path is represented by a list of points that need to be reached to go to the target. These points are at a certain distance from the obstacle and ensure a self travel is attained  \n",
    "\n",
    "- **State 1 :** In this state we receive the Thymio's position if it is detected by the camera or apply a kalman filter to the las known position using the spped value returned by the thymio. We use the path computed during the state 0 to evaluate the next goal to be reached. If we exceed the lenght of the path, we go in the state 2 and the robot stops. In our code _i_ represent the next checkpoint we aim for. Once we have the starting point and the final point we can use an astolfi controller implemented in the Motion_Control part. If the sensors of the robot detect an obsatcle we use the potential field method to avoid it. This step of local avoidance is coded in the astolfi controller and enable the thymio to avoid the obstacle while still targeting the next goal.\n",
    " \n",
    "- **State 2 :** This state represent the final step of the robot. In this step he robot stops and we shutdown the video flow and the computer window.    "
   ]
  },
  {
   "cell_type": "markdown",
   "id": "78d9fbb1",
   "metadata": {},
   "source": [
    "The whole code is explained here in the form of a pseudo code:"
   ]
  },
  {
   "cell_type": "raw",
   "id": "65eeb040",
   "metadata": {},
   "source": [
    "Declare an instance of thymio\n",
    "Begin the video flow\n",
    "i = 0 \n",
    "while(the video flow is going)\n",
    "    read the camera data\n",
    "    if (state = 0)\n",
    "        Initialize the path \n",
    "        update the state to 1\n",
    "    if (state = 1)\n",
    "        Detect the thymio from camera\n",
    "        if position capted from camera\n",
    "            update position of the robot with data\n",
    "        else:\n",
    "            update position of the robot with Kalman\n",
    "        Display the path on the video\n",
    "        Display the position from camera on the video\n",
    "        Display the position from camera on the video\n",
    "        if (i exceed the lenghth of the path)\n",
    "            Next_goal = path(i+1) \n",
    "            Angle = compute angle between robot and next_goal\n",
    "            Go to the next_goal with astolfi controller\n",
    "            if(thymio is arrived to next_goal)\n",
    "                increase i \n",
    "                if (i is equal to the final step of the path)\n",
    "                    Update the state to 2 \n",
    "                    Stop the thymio\n",
    "     if(state = 2)\n",
    "         Stop the thymio\n",
    "         break\n",
    "     \n",
    "     Display the video"
   ]
  },
  {
   "cell_type": "markdown",
   "id": "86d7c71c",
   "metadata": {},
   "source": [
    "### 0.2. Setup of the map <a class=\"anchor\" id=\"map\"></a>"
   ]
  },
  {
   "cell_type": "markdown",
   "id": "ad31f9ba",
   "metadata": {},
   "source": [
    "For our map we use different elements:\n",
    "- the obstacles in the form a black 2D polygons\n",
    "- the target in the form of a red square \n",
    "- the thymio with is covered by two green circles\n",
    "- Obstacles for local avoidance in the form of any 3d solids visible by the robot's sensors"
   ]
  },
  {
   "cell_type": "markdown",
   "id": "1463f25f",
   "metadata": {},
   "source": [
    "<figure>\n",
    "  <img src=\"pictures/map2.png\" width=\"500\" alt=\"map\" />\n",
    "  <figcaption> <center> <u>Figure 1:</u> Map of the setup for the robot<center> </figcaption></figure>"
   ]
  },
  {
   "cell_type": "markdown",
   "id": "abebce25",
   "metadata": {},
   "source": [
    "<figure>\n",
    "  <img src=\"pictures/setup.jpg\" width=\"500\" alt=\"map\" />\n",
    "  <figcaption> <center> <u>Figure 2:</u> Setup of the camera <center> </figcaption></figure>"
   ]
  },
  {
   "cell_type": "markdown",
   "id": "c4339ed8",
   "metadata": {},
   "source": [
    "### 0.3. Essensial Library and inclusion <a class=\"anchor\" id=\"library\"></a>"
   ]
  },
  {
   "cell_type": "markdown",
   "id": "07020706",
   "metadata": {},
   "source": [
    "#### Premade libraries"
   ]
  },
  {
   "cell_type": "code",
   "execution_count": 178,
   "id": "5b52f806",
   "metadata": {},
   "outputs": [],
   "source": [
    "import cv2 \n",
    "import time\n",
    "import math\n",
    "import numpy as np\n",
    "from matplotlib import pyplot as plt\n",
    "from shapely.geometry import Polygon, Point, LineString\n",
    "import pyvisgraph as vg\n",
    "from geopandas import GeoSeries"
   ]
  },
  {
   "cell_type": "markdown",
   "id": "a334ca12",
   "metadata": {},
   "source": [
    "#### Homemade functions"
   ]
  },
  {
   "cell_type": "code",
   "execution_count": 179,
   "id": "b3e0d57d",
   "metadata": {},
   "outputs": [],
   "source": [
    "import Vision.vision as vs\n",
    "import robot as rbt\n",
    "import Global_Navigation.global_navigation as glb\n",
    "import Motion_Control.thymio_control as ctrl"
   ]
  },
  {
   "cell_type": "markdown",
   "id": "f9fd6fb4",
   "metadata": {},
   "source": [
    "[Table of content](#table)"
   ]
  },
  {
   "cell_type": "markdown",
   "id": "4f8a9ef3",
   "metadata": {},
   "source": [
    "## 1. Vision  <a class=\"anchor\" id=\"vision\"></a>"
   ]
  },
  {
   "cell_type": "markdown",
   "id": "abd1e7b0",
   "metadata": {},
   "source": [
    "### 1.0 Most important function in Vision  <a class=\"anchor\" id=\"vis_function\"></a>"
   ]
  },
  {
   "cell_type": "markdown",
   "id": "32de6c51",
   "metadata": {},
   "source": [
    "| Function of Vision | Input | Output |\n",
    "|:------|:------|:------|\n",
    "|`detect_start(image, show=False, begin = True)` |receive a frame when the program starts, show allows to plot the image and begin allows to get only the start_coordinates|An image with a white rectangle on the two circles of the thymio and the start coordinates|\n",
    "|`detect_target(image)`|receive a frame when the program starts|An image with a white rectangle on the target and the coordinates of the target|\n",
    "|`detect_obstacle(image)`|receive an image with white rectangle on the start and the target|corner coordinates of each obstacle|"
   ]
  },
  {
   "cell_type": "markdown",
   "id": "5f9be852",
   "metadata": {},
   "source": [
    "### 1.1. Start and target Detection   <a class=\"anchor\" id=\"start_detect\"></a>"
   ]
  },
  {
   "cell_type": "markdown",
   "id": "99ec63ab",
   "metadata": {},
   "source": [
    "In order to obtain the starting point and the target point, we used two colored circles (1 blue and 1 green) of different sizes. These two circles are placed on the robot. At the beginning of the program, a picture of the scene is taken. Using the library opencv and more precisely the function template matching the center of the two circles are detected. Then by just computing the middle of these centers the center of the thymio (called starting point in the program is detected). Two circles are needed because in the following of the code it will allow to compute the orientation of the thymio  \n",
    "The same method is used to get the target but a red rectangle is used instead."
   ]
  },
  {
   "cell_type": "markdown",
   "id": "f347f145",
   "metadata": {},
   "source": [
    "Since the starting point and the goal are detected it is time to compute the coordinates of the obstacle on the map. In our project the obstacles are black 2 dimensions shapes. They are positionned randomly on the field. In order to detect them the image is converted in black and white. To avoid some risk of confusion with the shapes on the thymio and the one for the target, white rectangles are drawn on them. Then, after applying the threshold, the obstacle are detected (#plot image). By using an opencv function, the coordinates of the contours are found. Finaylly by following the steps of this link https://stackoverflow.com/questions/50984205/how-to-find-corners-points-of-a-shape-in-an-image-in-opencv every corner coordinates of each shape are stored in a array. It will be helpful to compute the visibility graph.  "
   ]
  },
  {
   "cell_type": "markdown",
   "id": "d2836924",
   "metadata": {},
   "source": [
    "### 1.2 Hough Transform:   <a class=\"anchor\" id=\"hough\"></a>"
   ]
  },
  {
   "cell_type": "markdown",
   "id": "c5dedbf2",
   "metadata": {},
   "source": [
    "The Hough transform is a feature extraction technique used in image processing and computer vision. It is used to detect lines and other geometric shapes in images. The transform is named after its inventor, Paul Hough, who developed it in the 1950s.  \n",
    "\n",
    "The Hough transform works by taking an image as input and transforming it into a new representation, known as Hough space, which encodes the geometric properties of the image. In this space, lines and other shapes are represented as points, which makes it easier to identify and extract them from the image.  \n",
    "\n",
    "To use the Hough transform, the image is first converted into a binary image, where each pixel is either black or white. This is done by applying a threshold to the pixel intensities, so that pixels with intensities above the threshold are set to white and pixels below the threshold are set to black.  \n",
    " \n",
    "Next, the Hough transform is applied to the binary image to create the Hough space. In this space, each point represents a possible line or shape in the image. The points are then grouped together into clusters, with each cluster representing a line or shape in the original image.  \n",
    "\n",
    "Finally, the line or shape is extracted from the image by selecting the cluster with the most points and drawing a line or shape that passes through those points. This line or shape is then overlaid onto the original image to highlight the detected feature.  \n",
    "\n",
    "The Hough transform is a powerful and widely used technique in image processing and computer vision. It is used in a variety of applications, such as identifying objects in images, detecting edges and lines in images, and extracting geometric features from images.  "
   ]
  },
  {
   "cell_type": "markdown",
   "id": "9f44c8c2",
   "metadata": {},
   "source": [
    "<figure>\n",
    "  <img src=\"pictures/hough.png\" width=\"700\" alt=\"map\" />\n",
    "  <figcaption> <center> <u>Figure 3:</u> Hough's transform <center> </figcaption></figure>"
   ]
  },
  {
   "cell_type": "code",
   "execution_count": 180,
   "id": "58863406",
   "metadata": {},
   "outputs": [],
   "source": [
    "def detect_start1(image, begin=True):\n",
    "    img = image.copy()\n",
    "    points = []\n",
    "    rayon = []\n",
    "\n",
    "    gray = cv2.cvtColor(img, cv2.COLOR_BGR2GRAY)\n",
    "\n",
    "    gray = cv2.GaussianBlur(gray, (5, 5), 0)\n",
    "    gray = cv2.medianBlur(gray, 5)\n",
    "\n",
    "    gray = cv2.adaptiveThreshold(gray, 255, cv2.ADAPTIVE_THRESH_GAUSSIAN_C, \\\n",
    "                                 cv2.THRESH_BINARY, 11, 3.5)\n",
    "\n",
    "    # Remove unwanted noise\n",
    "    kernel = np.ones((3, 3), np.uint8)\n",
    "    gray = cv2.erode(gray, kernel, iterations=1)\n",
    "    gray = cv2.dilate(gray, kernel, iterations=1)\n",
    "\n",
    "    # circles = cv2.HoughCircles(gray, cv2.HOUGH_GRADIENT, 1, 10, param1=25, param2=19, minRadius=0, maxRadius=18) #Perform HoughCircle Transform\n",
    "    circles = cv2.HoughCircles(gray, cv2.HOUGH_GRADIENT, 1, 20, param1=25, param2=25, minRadius=10, maxRadius=50)\n",
    "\n",
    "    #print(circles)\n",
    "    if circles is not None:\n",
    "        circles = np.round(circles[0, :]).astype(\"int\")\n",
    "\n",
    "        for (x, y, r) in circles:\n",
    "            cv2.circle(img, (x, y), r, (0, 255, 0), 4)\n",
    "            cv2.rectangle(img, (x - int(1.4 * r), y - int(1.4 * r)), (x + int(1.4 * r), y + int(1.4 * r)),\n",
    "                          (255, 255, 255), -1)\n",
    "            pos = (int(x), int(y))\n",
    "            points.append(pos)\n",
    "            rayon.append(r)\n",
    "\n",
    "    test_detect = False # sera utile pour le kalman, false si la pos du thymio nest pas detetc\n",
    "    center1 = 0\n",
    "    center2 = 0\n",
    "    start_coordinates = 0\n",
    "    if len(points) == 2:\n",
    "        test_detect = True\n",
    "        start_coordinates = ((points[0][0] + points[1][0]) / 2, (points[0][1] + points[1][1]) / 2)\n",
    "        if rayon[0] > rayon[1]:  # plus grand cercle a larriere\n",
    "            center2 = points[0]  # center 2 derriere\n",
    "            center1 = points[1]  # center 1 devant plus petit cercle\n",
    "        else:\n",
    "            center1 = points[0]\n",
    "            center2 = points[1]\n",
    "        #print(\"ok\")\n",
    "    else:\n",
    "        #print(\"revoir hough circles para\")\n",
    "        test_detect = False\n",
    "    if test_detect == False:\n",
    "        start_coordinates = (0,0)\n",
    "        center1 = (0,0)\n",
    "        center2 = (0,0)\n",
    "\n",
    "    if begin:\n",
    "        return img, start_coordinates, (center1, center2), test_detect\n",
    "    else:\n",
    "        return start_coordinates, (center1, center2), test_detect\n"
   ]
  },
  {
   "cell_type": "code",
   "execution_count": 181,
   "id": "3305fd2c",
   "metadata": {},
   "outputs": [],
   "source": [
    "def detect_obstacle(image):\n",
    "    \"\"\"\n",
    "    Detects the obstacles in the image using openCV functions\n",
    "    :param image: image of the map with obstacles\n",
    "    :return: gray, contours, shapes (all the corners of shapes), shape_center (centers of shapes)\n",
    "    \"\"\"\n",
    "    img = image.copy()\n",
    "\n",
    "    gray = cv2.cvtColor(img, cv2.COLOR_BGR2GRAY)\n",
    "    ret, gray = cv2.threshold(gray, 80, 255, cv2.THRESH_BINARY)\n",
    "    contours, hierarchy = cv2.findContours(gray, cv2.RETR_TREE, cv2.CHAIN_APPROX_NONE)\n",
    "\n",
    "    shapes = []\n",
    "    shape_center = []\n",
    "    for i in contours:\n",
    "        size = cv2.contourArea(i)\n",
    "        rect = cv2.minAreaRect(i)\n",
    "        if size < 50000:\n",
    "            gray = np.float32(gray)\n",
    "            mask = np.zeros(gray.shape, dtype=\"uint8\")\n",
    "            cv2.fillPoly(mask, [i], (255, 255, 255))\n",
    "            dst = cv2.cornerHarris(mask, 5, 3, 0.04)\n",
    "            ret, dst = cv2.threshold(dst, 0.1 * dst.max(), 255, 0)\n",
    "            dst = np.uint8(dst)\n",
    "            ret, labels, stats, centroids = cv2.connectedComponentsWithStats(dst)\n",
    "            criteria = (cv2.TERM_CRITERIA_EPS + cv2.TERM_CRITERIA_MAX_ITER, 100, 0.001)\n",
    "            corners = cv2.cornerSubPix(gray, np.float32(centroids), (5, 5), (-1, -1), criteria)\n",
    "            if len(corners) > 3:\n",
    "                shapes.append(corners[1:len(corners)])\n",
    "                shape_center.append(np.mean(i, axis=0)[0])\n",
    "\n",
    "    return gray, contours, shapes, shape_center"
   ]
  },
  {
   "cell_type": "markdown",
   "id": "76629149",
   "metadata": {},
   "source": [
    "We use the Hough's transform to detect the obstacles and the circle representing the thymio. To do so, we use the functions written higher detect_obstacle() and def detect_start1()."
   ]
  },
  {
   "cell_type": "markdown",
   "id": "dfea5a6d",
   "metadata": {},
   "source": [
    "<figure>\n",
    "  <img src=\"pictures/map2.png\" width=\"300\" alt=\"map\" />\n",
    "  <figcaption> <center> <u>Figure 4:</u> Template Matching using OpenCV <center> </figcaption></figure>"
   ]
  },
  {
   "cell_type": "code",
   "execution_count": 182,
   "id": "4955d569",
   "metadata": {},
   "outputs": [
    {
     "data": {
      "image/png": "[encoded data removed]",
      "text/plain": [
       "<Figure size 720x576 with 2 Axes>"
      ]
     },
     "metadata": {
      "needs_background": "light"
     },
     "output_type": "display_data"
    }
   ],
   "source": [
    "img = cv2.imread('pictures/map2.png')\n",
    "\n",
    "img_thymio, start_coordinates, (center1, center2), test_detect = detect_start1(img, True)\n",
    "gray, contours, shapes, shape_center = detect_obstacle(img)\n",
    "\n",
    "fig, ax = plt.subplots(1, 2,figsize=(10, 8))\n",
    "ax[0].imshow(img_thymio)\n",
    "ax[1].imshow(img_obstacle)\n",
    "ax[0].set_title(\"Image with thymio detected\")\n",
    "ax[1].set_title(\"Image with obstacles detected\")\n",
    "fig.tight_layout()\n",
    "plt.show()"
   ]
  },
  {
   "cell_type": "markdown",
   "id": "3e31587e",
   "metadata": {},
   "source": [
    "On the last images you can see that by using Hough's transform, we can detect obstacles and circles. It is important to notice that we need to apply some rectangles to mask the image before detecting obstacles. Here for the purpose of showing this, we did not apply rectangles on the target. As such, we can see that the target is detected as an obstacle whereas the circles aren't."
   ]
  },
  {
   "cell_type": "markdown",
   "id": "fcbf14b1",
   "metadata": {},
   "source": [
    "### 1.3 Template matching    <a class=\"anchor\" id=\"template\"></a>"
   ]
  },
  {
   "cell_type": "markdown",
   "id": "ed9693ad",
   "metadata": {},
   "source": [
    "Template matching is a technique used in image processing and computer vision to find instances of a template image in a larger image. It works by comparing the template image to multiple regions of the larger image, using a similarity measure such as normalized cross-correlation, to determine if the template is present in each region.  \n",
    "\n",
    "To perform template matching, the template image is first converted into a binary image, where each pixel is either black or white. This is done by applying a threshold to the pixel intensities, so that pixels with intensities above the threshold are set to white and pixels below the threshold are set to black.  \n",
    "\n",
    "Next, the template image is compared to multiple regions of the larger image using a similarity measure. The regions are typically smaller than the template image and are overlapped in order to ensure that all parts of the larger image are covered. The similarity measure is used to determine how closely the template image matches each region of the larger image.  \n",
    "\n",
    "If a region of the larger image matches the template image above a certain threshold, it is considered to be a match. The location of the matching region is then recorded, and the process is repeated for the remaining regions of the larger image.  \n",
    "\n",
    "Template matching is a useful technique for a variety of applications, such as object recognition, facial recognition, and pattern recognition. It is often used in conjunction with other image processing techniques, such as feature extraction and image segmentation, to improve the accuracy and efficiency of the matching process.  \n",
    " "
   ]
  },
  {
   "cell_type": "markdown",
   "id": "00ccf58a",
   "metadata": {},
   "source": [
    "<figure>\n",
    "  <img src=\"pictures/template_match.jpg\" width=\"700\" alt=\"map\" />\n",
    "  <figcaption> <center> <u>Figure 5:</u> Template Matching using OpenCV <center> </figcaption></figure>"
   ]
  },
  {
   "cell_type": "code",
   "execution_count": 183,
   "id": "b7130bb6",
   "metadata": {},
   "outputs": [],
   "source": [
    "def detect_target(image):\n",
    "    template = cv2.imread('Vision/feuille_rouge.png')\n",
    "    #template = cv2.imread('feuille_rouge.png')\n",
    "    _, w, h = template.shape[::-1]\n",
    "    methods = ['cv2.TM_CCOEFF', 'cv2.TM_CCOEFF_NORMED', 'cv2.TM_CCORR', 'cv2.TM_CCORR_NORMED', 'cv2.TM_SQDIFF',\n",
    "               'cv2.TM_SQDIFF_NORMED']\n",
    "\n",
    "    img = image.copy()\n",
    "    # Apply template Matching\n",
    "    res = cv2.matchTemplate(img, template, cv2.TM_CCORR_NORMED)  # TM_SQDIFF\n",
    "    _, _, min_loc, max_loc = cv2.minMaxLoc(res)  # take min if TM_SQDIFF or TM_SQDIFF_NORMED\n",
    "\n",
    "    top_left = (max_loc[0], max_loc[1])\n",
    "    bottom_right = (top_left[0] + w, top_left[1] + h)\n",
    "    target_coordinates = (top_left[0] + w / 2, top_left[1] + h / 2)\n",
    "    cv2.rectangle(img, top_left, bottom_right, (255, 255, 255),\n",
    "                  -1)  # rect blue, draw rectangle 2 opp corner top left and bottom right\n",
    "\n",
    "    return target_coordinates, img, res\n"
   ]
  },
  {
   "cell_type": "markdown",
   "id": "f6893a67",
   "metadata": {},
   "source": [
    "If we use the previously written function we can detect the target represented by the red square. This technique is usefull as it can find coloured target withing a small step time. On the following cell we will show how we use template matching on the test image to detect the target."
   ]
  },
  {
   "cell_type": "code",
   "execution_count": 184,
   "id": "a2a12ba8",
   "metadata": {},
   "outputs": [
    {
     "data": {
      "image/png": "[encoded data removed]",
      "text/plain": [
       "<Figure size 720x576 with 2 Axes>"
      ]
     },
     "metadata": {
      "needs_background": "light"
     },
     "output_type": "display_data"
    }
   ],
   "source": [
    "img = cv2.imread('pictures/map2.png')\n",
    "\n",
    "target_coordinates, img_target, res = detect_target(img)\n",
    "\n",
    "fig, ax = plt.subplots(1, 2,figsize=(10, 8))\n",
    "ax[0].imshow(img)\n",
    "ax[1].imshow(img_target)\n",
    "ax[0].set_title(\"Original image\")\n",
    "ax[1].set_title(\"Image with the target detected\")\n",
    "fig.tight_layout()\n",
    "plt.show()"
   ]
  },
  {
   "cell_type": "markdown",
   "id": "8df49f33",
   "metadata": {},
   "source": [
    "[Table of content](#table)"
   ]
  },
  {
   "cell_type": "markdown",
   "id": "0aae187d",
   "metadata": {},
   "source": [
    "## 2. Global Navigation   <a class=\"anchor\" id=\"global_nav\"></a>"
   ]
  },
  {
   "cell_type": "markdown",
   "id": "db906a16",
   "metadata": {},
   "source": [
    "### 2.0. Main functions    <a class=\"anchor\" id=\"global_function\"></a>"
   ]
  },
  {
   "cell_type": "markdown",
   "id": "ed75533f",
   "metadata": {},
   "source": [
    "This part of the code is the second step of our code, its goal is to compute the shortest path from the starting position of the thymio to the target while avoiding obstacles. All the elements used in this part are given by the vision part of the code they are transmitted as points."
   ]
  },
  {
   "cell_type": "markdown",
   "id": "56f6f3ab",
   "metadata": {},
   "source": [
    "| Function of Global Navigation | Input | Output |\n",
    "|:------|:------|:------|\n",
    "|`build_vis_graph(shapes, start, target)` |Takes a list of points representing the contours of the obstacles and two points standing for the starting and finishing goal of the path. The path is made using pyVisgraph library and avoid obstacle using a visibility graph and a djisktra algorithm |The shortest path in the form of a list of points and the shapes representing the obstacles (also represented as points|\n"
   ]
  },
  {
   "cell_type": "markdown",
   "id": "0c40b445",
   "metadata": {},
   "source": [
    "<u>Links of interest:</u>  \n",
    "    - PyVisgraph library: https://github.com/TaipanRex/pyvisgraph  \n",
    "    - D.T. Lee : https://taipanrex.github.io/2016/10/19/Distance-Tables-Part-2-Lees-Visibility-Graph-Algorithm.html  "
   ]
  },
  {
   "cell_type": "markdown",
   "id": "15dd25bb",
   "metadata": {},
   "source": [
    "### 2.1. PyVisgraph library   <a class=\"anchor\" id=\"pyvisgraph\"></a>"
   ]
  },
  {
   "cell_type": "markdown",
   "id": "996ecfdc",
   "metadata": {},
   "source": [
    "Given a set of simple obstacle polygons, build a visibility graph and find the shortest path between two points.\n",
    "Pyvisgraph is a MIT-licensed Python package for building visibility graphs from a list of simple obstacle polygons. The visibility graph algorithm (D.T. Lee) runs in O(N² log(N)) time. The shortest path is found using Djikstra's algorithm."
   ]
  },
  {
   "cell_type": "markdown",
   "id": "0d8a9da2",
   "metadata": {},
   "source": [
    "| Function of PyVisgraph Library | Input | Output |\n",
    "|:------|:------|:------|\n",
    "|`VisGraph()` |Nothing| Return the created instance of the visibility graph|\n",
    "|`build()` |Method of the instance of visibility graph. Takes in a list of points representing the obstacles| Returns nothing but add all the points to the existing visibility graph|\n",
    "|`shortest_path()` |Method of the VisGraph instance (here g).Takes in a target and a starting point under the form of Point(from the visGraph library)| Return the shortest path linking the starting point to the target under the form of a list of checkpoints.|"
   ]
  },
  {
   "cell_type": "markdown",
   "id": "0b4d041c",
   "metadata": {},
   "source": [
    "In the following cell you can find the pseudo code useful to create the shortest path:"
   ]
  },
  {
   "cell_type": "raw",
   "id": "454d7332",
   "metadata": {},
   "source": [
    "================================================================================================================================\n",
    "INPUT :  \n",
    "Points = List of point under the form [x, y] representing the obstacle  \n",
    "start = Strating point from the path  \n",
    "target = Finish point from the path   \n",
    "  \n",
    "OUTPUT :\n",
    "Shortest_path = List of point under the form Point(x,y) representing the shortest path  \n",
    "================================================================================================================================\n",
    "\n",
    "    start = PyVisgraph.Point(start)\n",
    "    target = PyVisgraph.Point(target)\n",
    "\n",
    "    List = ()  \n",
    "    for i in Points:  \n",
    "         add PyVisgraph.Point(Points(i)) to List  \n",
    "\n",
    "    g = PyVisgraph.Visgrapgh()  \n",
    "    g.build(vgPoints)\n",
    "    shortest_path = g.shortest_path(start, target)\n",
    "    \n",
    "    return shortest_path"
   ]
  },
  {
   "cell_type": "markdown",
   "id": "7b2205d3",
   "metadata": {},
   "source": [
    "### 2.2 Implementation of the code   <a class=\"anchor\" id=\"global_code\"></a>"
   ]
  },
  {
   "cell_type": "markdown",
   "id": "e56a75f2",
   "metadata": {},
   "source": [
    "We will know demonstrate how one can find the shortest path using the pyVisgraph library using the functions in the vision part. For this test we use the following image "
   ]
  },
  {
   "cell_type": "markdown",
   "id": "d426ae14",
   "metadata": {},
   "source": [
    "<figure>\n",
    "  <img src=\"pictures/map2.png\" width=\"400\" alt=\"map\" />\n",
    "  <figcaption> <center> <u>Figure 6:</u> Picture of test obstacles<center> </figcaption></figure>"
   ]
  },
  {
   "cell_type": "markdown",
   "id": "52f650e5",
   "metadata": {},
   "source": [
    "The link between the Vision and the global navigation is made by the function of vision transmit_data() which returns the starting and target points and the obstacles. These data will be used in the creation of the visibility graph after."
   ]
  },
  {
   "cell_type": "code",
   "execution_count": 185,
   "id": "2d9ddc5f",
   "metadata": {},
   "outputs": [],
   "source": [
    "def transmit_data(image, show, margin):\n",
    "    img_start, start_coor, (center1, center2), test_detect = detect_start1(image)\n",
    "    target_coor, img_target, res_target = detect_target(img_start)\n",
    "    gray2, contours, shapes, shape_center = detect_obstacle(img_target)\n",
    "    for i in range(len(shapes)):\n",
    "        shapes[i] = vs.sort_vertices_clockwise(shapes[i])\n",
    "    shapes = add_margin(shapes, shape_center, margin)\n",
    "\n",
    "    if show:\n",
    "        # Bilateral Filtering\n",
    "        bilateral = cv2.bilateralFilter(image, 9, 75, 75)\n",
    "        bw_img = cv2.cvtColor(bilateral, cv2.COLOR_BGR2GRAY)\n",
    "\n",
    "        fig, (ax1, ax2, ax3) = plt.subplots(1, 3, sharey='row')\n",
    "        ax1.imshow(image)\n",
    "        ax2.imshow(img_target)\n",
    "        ax3.imshow(gray2)\n",
    "\n",
    "        plt.title(\"img, start, target\")\n",
    "\n",
    "        plt.show()\n",
    "\n",
    "    sz_img = np.shape(image)\n",
    "    return start_coor, target_coor, shapes, sz_img, (center1, center2)"
   ]
  },
  {
   "cell_type": "markdown",
   "id": "114e1c75",
   "metadata": {},
   "source": [
    "#### 2.2.1. The Dijkstra's algorithm:  <a class=\"anchor\" id=\"djisktra\"></a>"
   ]
  },
  {
   "cell_type": "markdown",
   "id": "c1874c00",
   "metadata": {},
   "source": [
    "The Dijkstra's algorithm is a popular graph traversal algorithm that is used to find the shortest path between two nodes in a graph. It was developed by Dutch computer scientist Edsger Dijkstra in the 1950s and is widely used in computer science and other fields.  \n",
    "\n",
    "The algorithm works by starting at the source node and exploring the neighboring nodes first, before moving on to the next-closest nodes. It uses a priority queue to keep track of the order in which the nodes are visited, and updates the distances between the nodes as it progresses. The algorithm terminates when the destination node is reached or when there are no more unexplored nodes.  \n",
    "\n",
    "One way to visualize the algorithm is to think of it as a tree, where the source node is at the root and the destination node is a leaf. The algorithm moves from the root to the leaves, always choosing the shortest path to the next node.  \n"
   ]
  },
  {
   "cell_type": "markdown",
   "id": "1ec98a68",
   "metadata": {},
   "source": [
    "<figure>\n",
    "  <img src=\"pictures/djisktra.png\" width=\"400\" alt=\"map\" />\n",
    "  <figcaption> <center> <u>Figure 7:</u> Djisktra graph<center> </figcaption></figure>"
   ]
  },
  {
   "cell_type": "markdown",
   "id": "c7cd69f9",
   "metadata": {},
   "source": [
    "Here is an example of how the algorithm might work with A and J as the extremities of the graph:\n",
    "- Start at the source node (A)\n",
    "- Explore the neighboring nodes (B and C)\n",
    "- Choose the closest neighboring node (B) and visit it\n",
    "- Explore the neighboring nodes of B (D and E)\n",
    "- Choose the closest neighboring node (E) and visit it\n",
    "- Explore the neighboring nodes of D (F and D)\n",
    "- Choose the closest neighboring node (F) and visit it\n",
    "- Continue exploring the nodes until the destination node (K) is reached. Here J is the last node. Hence, we stop the algorithm.\n",
    "\n",
    "In this example, the algorithm would visit the nodes in the following order: A -> B -> E -> F. This is the shortest path between the source and destination nodes.\n"
   ]
  },
  {
   "cell_type": "markdown",
   "id": "81c3230b",
   "metadata": {},
   "source": [
    "#### 2.2.2. Visibility graph: <a class=\"anchor\" id=\"visibility\"></a>"
   ]
  },
  {
   "cell_type": "markdown",
   "id": "dd3229d1",
   "metadata": {},
   "source": [
    "A visibility graph is a type of graph that is used to represent the visibility between points in a plane. It is constructed by creating a vertex for each point in the plane, and then connecting two vertices with an edge if the corresponding points are visible to each other. This means that an edge exists between two vertices if there is a straight line between the points that does not intersect any other points in the plane.  \n",
    "\n",
    "Visibility graphs are commonly used in computational geometry to solve a variety of problems, such as computing the shortest path between two points or finding the convex hull of a set of points. They are also used in other fields, such as robotics and computer graphics, where the visibility between points is important.  \n",
    "\n",
    "One of the key benefits of visibility graphs is that they can be easily constructed from a set of points in the plane. This makes them a useful tool for solving problems that involve visibility, as they provide a simple and intuitive way to represent the relationships between the points. Additionally, visibility graphs can be used to solve problems that may be difficult or impossible to solve using other methods.  \n"
   ]
  },
  {
   "cell_type": "markdown",
   "id": "b162bb7b",
   "metadata": {},
   "source": [
    "<figure>\n",
    "  <img src=\"pictures/visibility.png\" width=\"400\" alt=\"map\" />\n",
    "  <figcaption> <center> <u>Figure 8:</u> Djisktra graph<center> </figcaption></figure>"
   ]
  },
  {
   "cell_type": "markdown",
   "id": "8a4eacba",
   "metadata": {},
   "source": [
    "Now that we understand the theory behind Djisktra's algorithm and Visibility graphs, we can apply the first to the last one to compute the shortest path of our thymio in the map given by the vision functions. This is implemented by the following function build_vis_graph().  \n",
    "\n",
    "The build_vis_graph() function takes in the parameter described in the next cell and by using the functions from the pyVisgraph library described in section 2.2 process the shortest path with the Djisktra algorithm.  "
   ]
  },
  {
   "cell_type": "code",
   "execution_count": 186,
   "id": "d03fb355",
   "metadata": {},
   "outputs": [],
   "source": [
    "def build_vis_graph(shapes, start, target):\n",
    "    \"\"\"\n",
    "    Take the information extracted to compute the shortest path using visibility graphs algorithms\n",
    "    :param shapes: List of all obstacles\n",
    "    :param start: Starting position of the robot\n",
    "    :param target: Goal identified\n",
    "    :return: The shortest path to go to the goal from the initial position\n",
    "    \"\"\"\n",
    "    startx = str(start[0])\n",
    "    starty = str(start[1])\n",
    "\n",
    "    start = vg.Point(startx, starty)\n",
    "    target = vg.Point(str(target[0]), str(target[1]))\n",
    "    vgPoints = []\n",
    "\n",
    "    for i in range(len(shapes)):\n",
    "        temp = []\n",
    "        for j in range(len(shapes[i])):\n",
    "            temp.append(vg.Point(shapes[i][j][0], shapes[i][j][1]))\n",
    "        temp.append(vg.Point(shapes[i][0][0], shapes[i][0][1]))\n",
    "        vgPoints.append(temp)\n",
    "\n",
    "    g = vg.VisGraph()\n",
    "    g.build(vgPoints)\n",
    "\n",
    "    shortest_path = g.shortest_path(start, target)\n",
    "    return shortest_path, shapes"
   ]
  },
  {
   "cell_type": "markdown",
   "id": "5ec9a757",
   "metadata": {},
   "source": [
    "With these two functions we can have the shortest path. But is is clear if we look at the figure 5 that our robot will hit the obstacle due to its width. Therefore we have to add a certain margin to our obstacles. This is implemented by the following function add_margin()"
   ]
  },
  {
   "cell_type": "code",
   "execution_count": 187,
   "id": "d28b1ff3",
   "metadata": {},
   "outputs": [],
   "source": [
    "def add_margin(coin, listCenters, margin):  # recoit shapes avec les vertices sort clockwise, return les nouveaux points aves la marge\n",
    "    for i in range(len(coin)):\n",
    "        for j in range(len(coin[i])):\n",
    "            u = coin[i][j] - listCenters[i]\n",
    "            u_norm = u / np.linalg.norm(u)\n",
    "            coin[i][j] = coin[i][j] + margin*u_norm\n",
    "    return coin"
   ]
  },
  {
   "cell_type": "markdown",
   "id": "5e743b17",
   "metadata": {},
   "source": [
    "In the following code we display the shortest path. We can see clearly the effect of the add_margin() function. The corners of the obstacles are displaced to avoid the problems raised before. One of the advantage of the visibility graph technique is its complexity. Indeed you can test after and see how fast the shortest path is computed."
   ]
  },
  {
   "cell_type": "code",
   "execution_count": 188,
   "id": "63c99616",
   "metadata": {},
   "outputs": [
    {
     "name": "stderr",
     "output_type": "stream",
     "text": [
      "100%|███████████████████████████████████████████████████████████████████████████████████| 2/2 [00:00<00:00, 200.06it/s]\n"
     ]
    },
    {
     "data": {
      "image/png": "[encoded data removed]",
      "text/plain": [
       "<Figure size 432x288 with 1 Axes>"
      ]
     },
     "metadata": {
      "needs_background": "light"
     },
     "output_type": "display_data"
    }
   ],
   "source": [
    "img = cv2.imread('pictures/map2.png')\n",
    "\n",
    "start, target, shapes, size, start_points = transmit_data(img, False, 30)\n",
    "shortest, shapes = build_vis_graph(shapes, start, target)\n",
    "\n",
    "img = glb.draw_path(img, shortest)\n",
    "for i in range(len(shapes)):\n",
    "    for j in range(len(shapes[i])):\n",
    "        cv2.circle(img, (int(shapes[i][j][0]), int(shapes[i][j][1])), 7, (255,255,255), 2)\n",
    "plt.imshow(img)\n",
    "plt.show()"
   ]
  },
  {
   "cell_type": "markdown",
   "id": "d0906f7c",
   "metadata": {},
   "source": [
    "[Table of content](#table)"
   ]
  },
  {
   "cell_type": "markdown",
   "id": "d9b54078",
   "metadata": {},
   "source": [
    "## 3. Motion Control <a class=\"anchor\" id=\"motion\"></a>"
   ]
  },
  {
   "cell_type": "markdown",
   "id": "aae43b7d",
   "metadata": {},
   "source": [
    "### 3.1 Astolfi Controller <a class=\"anchor\" id=\"astolfi\"></a>"
   ]
  },
  {
   "cell_type": "markdown",
   "id": "04dbf940",
   "metadata": {},
   "source": [
    "For the motion controller of the thymio, we opted for an Astolfi controller, which takes as input the coordinates of the thymio, its orientation, and the coordinates of the target location.\n",
    "It then computes the following coordinates :\n",
    "- $\\rho$ : the distance from the thymio to the goal.\n",
    "- $\\alpha$ : the angle between the straight direction from the thymio to the goal, and the direction along thymio's orientation.\n",
    "- $\\beta$ : the orientation of the vector leading from the thymio to the goal.\n",
    "\n",
    "These three coordinates can be seen in the image below:"
   ]
  },
  {
   "cell_type": "markdown",
   "id": "51ce81c3",
   "metadata": {},
   "source": [
    "<figure>\n",
    "  <img src=\"pictures/Astolfi_schema.png\" width=\"600\" alt=\"map\" />\n",
    "  <figcaption> <center> <u>Figure 9:</u> Astolfi Schema <center> </figcaption></figure>"
   ]
  },
  {
   "attachments": {},
   "cell_type": "markdown",
   "id": "84b3312e",
   "metadata": {},
   "source": [
    "and they can be computed with the following relationships :\n",
    "\n",
    "\\begin{cases}  \n",
    "\\rho= \\sqrt{\\Delta x^2 + \\Delta y^2} \\\\\n",
    "\\alpha = - \\theta + atan2(\\Delta y, \\Delta x)  \\\\\n",
    "\\beta = - \\theta - \\alpha\n",
    "\\end{cases} \n",
    "\n",
    "where :\n",
    "- $\\Delta$x : the distance on the x axis from the thymio to the goal.\n",
    "- $\\Delta$y : the distance on the y axis from the thymio to the goal.\n",
    "- $\\theta$ : orientation of the thymio.\n",
    "\n",
    "It can be shown that the control law : $v=k_\\rho \\times \\rho$ and $\\omega=k_\\beta \\times \\beta + k_\\alpha \\times \\alpha$ yields a closed loop system with a unique equilibrium point at $(\\rho,\\alpha,\\beta)=(0,0,0)$, which are the coordinates we want to reach, and that this system is exponentially stable if: $k_\\rho>0$, $k_\\beta<0$, and $k_\\alpha-k_\\rho>0$. this set of equation had to be slighlty modified to take into account the flipped y-axis when working directly with pixels.\n",
    "\n",
    "In our implementation of the Astolfi controller, we chose the coefficient $k_\\beta$ to be as close to zero as possible, since this coefficient only affects the orientation of the thymio when it reaches its destination, which doesn't matter in the scope of our project. we also established a distance threshold so the thymio detects when it reaches its destination, and an angle threshold to avoid too much \"zig-zagging\". Lastly, since the speed is directly proportional to $\\rho$, we had to establish and upper and lower limit to the speed in order to avoid speeds that are either too high or too low."
   ]
  },
  {
   "cell_type": "code",
   "execution_count": 189,
   "id": "17919738",
   "metadata": {
    "ExecuteTime": {
     "end_time": "2022-12-09T20:08:22.353639Z",
     "start_time": "2022-12-09T20:08:22.353639Z"
    },
    "code_folding": []
   },
   "outputs": [],
   "source": [
    "'''controller constants to tune accordingly'''\n",
    "kp = 0.5  # >0\n",
    "ka = 25  # > kp\n",
    "kb = -0.01  # <0\n",
    "\n",
    "'''speed limits and sensors thresholds to tune accordingly'''\n",
    "v_max = 200\n",
    "v_min = 20\n",
    "thres_arrived = 50\n",
    "angle_thres = 0.17\n",
    "obstSpeedGain = np.array([6,4,-2,-6,-8])/100\n",
    "\n",
    "'''Controller function'''\n",
    "def astolfi(pos, theta, target, node, client):\n",
    "    state = 0  # this functions is called recursivly untill state=1 i.e. the thymio has arrived\n",
    "    delta_pos = [target[0] - pos[0], -(target[1] - pos[1])]\n",
    "    rho = np.linalg.norm(delta_pos)\n",
    "    alpha = -theta - np.arctan2(delta_pos[1], delta_pos[0])\n",
    "    if alpha>np.pi:\n",
    "        alpha-=2*np.pi\n",
    "    elif alpha<-np.pi:\n",
    "        alpha+=2*np.pi\n",
    "    beta = theta - alpha\n",
    "    if beta>np.pi:\n",
    "        beta-=2*np.pi\n",
    "    elif beta<-np.pi:\n",
    "        beta+=2*np.pi\n",
    "    sensors= np.array(get_prox_sensors(node, client)[0:5])\n",
    "    vit_obst_left=np.sum(np.multiply(sensors,obstSpeedGain))\n",
    "    vit_obst_right=np.sum(np.multiply(sensors,np.flip(obstSpeedGain)))\n",
    "    #print(\"teta=\",theta,\"  alpa=\",alpha,\"  beta=\",beta,\"  rho=\",rho) #prints to debug\n",
    "    \n",
    "    if (alpha>angle_thres):\n",
    "        omega = ka * alpha + kb * beta\n",
    "    else: \n",
    "        omega=kb*beta\n",
    "    \n",
    "    omega = ka * alpha + kb * beta\n",
    "    if rho > thres_arrived:\n",
    "        v = kp * rho\n",
    "        if v > v_max: v = v_max\n",
    "        if v < v_min: v = v_min\n",
    "    else:\n",
    "        v = 0\n",
    "        state = 1\n",
    "    left_speed = v - omega + vit_obst_left\n",
    "    right_speed = v + omega + vit_obst_right\n",
    "    set_motor_speed(int(right_speed), int(left_speed), node)\n",
    "    return state"
   ]
  },
  {
   "cell_type": "markdown",
   "id": "d8c0f3a2",
   "metadata": {},
   "source": [
    "### 3.2 Auxiliary control functions <a class=\"anchor\" id=\"control_aux\"></a>"
   ]
  },
  {
   "cell_type": "markdown",
   "id": "4da9fd49",
   "metadata": {},
   "source": [
    "\n",
    "We also created some auxiliary motion control functions to help control the thymio, which will be quickly described in the following section:"
   ]
  },
  {
   "cell_type": "markdown",
   "id": "3484f7f0",
   "metadata": {},
   "source": [
    "[Table of content](#table)"
   ]
  },
  {
   "cell_type": "markdown",
   "id": "224b84b4",
   "metadata": {},
   "source": [
    "## 4. Local obstacle avoidance <a class=\"anchor\" id=\"local_avoidance\"></a>"
   ]
  },
  {
   "cell_type": "markdown",
   "id": "72d254eb",
   "metadata": {},
   "source": [
    "The local obstacle avoidance was directly implemented in the thymios's controller by means of potential fields.\n",
    "In the \"astolfi\" function displayed in the previous section,"
   ]
  },
  {
   "cell_type": "markdown",
   "id": "3528b1d7",
   "metadata": {},
   "source": [
    "[Table of content](#table)"
   ]
  },
  {
   "cell_type": "markdown",
   "id": "287aca8f",
   "metadata": {},
   "source": [
    "## 5. Filtering <a class=\"anchor\" id=\"filtering\"></a>"
   ]
  },
  {
   "cell_type": "code",
   "execution_count": null,
   "id": "79d91b79",
   "metadata": {},
   "outputs": [],
   "source": []
  },
  {
   "cell_type": "markdown",
   "id": "3b1625a6",
   "metadata": {},
   "source": [
    "[Table of content](#table)"
   ]
  },
  {
   "cell_type": "markdown",
   "id": "4f761547",
   "metadata": {},
   "source": [
    "## 6. Whole code  <a class=\"anchor\" id=\"whole_code\"></a>"
   ]
  },
  {
   "cell_type": "code",
   "execution_count": null,
   "id": "c6175f71",
   "metadata": {},
   "outputs": [],
   "source": []
  },
  {
   "cell_type": "markdown",
   "id": "e67f5788",
   "metadata": {},
   "source": [
    "[Table of content](#table)"
   ]
  },
  {
   "cell_type": "markdown",
   "id": "8ac7cb61",
   "metadata": {},
   "source": [
    "## 7. Conclusion <a class=\"anchor\" id=\"conclusion\"></a>"
   ]
  },
  {
   "cell_type": "code",
   "execution_count": null,
   "id": "5b6bddcc",
   "metadata": {},
   "outputs": [],
   "source": []
  },
  {
   "cell_type": "markdown",
   "id": "c1d8a076",
   "metadata": {},
   "source": [
    "[Table of content](#table)"
   ]
  },
  {
   "cell_type": "code",
   "execution_count": null,
   "id": "c0989067",
   "metadata": {},
   "outputs": [],
   "source": []
  }
 ],
 "metadata": {
  "hide_input": false,
  "kernelspec": {
   "display_name": "Python 3 (ipykernel)",
   "language": "python",
   "name": "python3"
  },
  "language_info": {
   "codemirror_mode": {
    "name": "ipython",
    "version": 3
   },
   "file_extension": ".py",
   "mimetype": "text/x-python",
   "name": "python",
   "nbconvert_exporter": "python",
   "pygments_lexer": "ipython3",
   "version": "3.9.7"
  },
  "toc": {
   "base_numbering": 1,
   "nav_menu": {},
   "number_sections": true,
   "sideBar": true,
   "skip_h1_title": false,
   "title_cell": "Table of Contents",
   "title_sidebar": "Contents",
   "toc_cell": false,
   "toc_position": {},
   "toc_section_display": true,
   "toc_window_display": false
  }
 },
 "nbformat": 4,
 "nbformat_minor": 5
}
