{
 "cells": [
  {
   "cell_type": "markdown",
   "id": "911e98a5",
   "metadata": {},
   "source": [
    "# Rapport Projet"
   ]
  },
  {
   "cell_type": "markdown",
   "id": "6f8e5345",
   "metadata": {},
   "source": [
    "\n",
    "Valentin Suppa-Gallezot   \n",
    "Mehdi El Bouari   \n",
    "Thibault Golaz  \n",
    "Louis Marchand  \n"
   ]
  },
  {
   "cell_type": "markdown",
   "id": "ce4c4106",
   "metadata": {},
   "source": [
    "## Introduction"
   ]
  },
  {
   "cell_type": "markdown",
   "id": "bcd65dbc",
   "metadata": {},
   "source": [
    "## 1. Vision"
   ]
  },
  {
   "cell_type": "markdown",
   "id": "d98e61c4",
   "metadata": {},
   "source": [
    "### Start and target Detection "
   ]
  },
  {
   "cell_type": "markdown",
   "id": "f7cdad7a",
   "metadata": {},
   "source": [
    "In order to obtain the starting point and the target point, we used two colored circles (1 blue and 1 green) of different sizes. These two circles are placed on the robot. At the beginning of the program, a picture of the scene is taken. Using the library opencv and more precisely the function template matching the center of the two circles are detected. Then by just computing the middle of these centers the center of the thymio (called starting point in the program is )"
   ]
  },
  {
   "cell_type": "markdown",
   "id": "3770ebed",
   "metadata": {},
   "source": [
    "## 2. Global Navigation "
   ]
  },
  {
   "cell_type": "markdown",
   "id": "2b01329d",
   "metadata": {},
   "source": [
    "## 3. Motion Control"
   ]
  },
  {
   "cell_type": "markdown",
   "id": "5bcf8c79",
   "metadata": {},
   "source": [
    "## 4. Local avoidance"
   ]
  },
  {
   "cell_type": "markdown",
   "id": "30d85aa9",
   "metadata": {},
   "source": [
    "## 5. Filtering"
   ]
  },
  {
   "cell_type": "markdown",
   "id": "a92e3353",
   "metadata": {},
   "source": [
    "## 6. Conclusion"
   ]
  },
  {
   "cell_type": "code",
   "execution_count": null,
   "id": "09d4acae",
   "metadata": {},
   "outputs": [],
   "source": []
  }
 ],
 "metadata": {
  "kernelspec": {
   "display_name": "Python 3 (ipykernel)",
   "language": "python",
   "name": "python3"
  },
  "language_info": {
   "codemirror_mode": {
    "name": "ipython",
    "version": 3
   },
   "file_extension": ".py",
   "mimetype": "text/x-python",
   "name": "python",
   "nbconvert_exporter": "python",
   "pygments_lexer": "ipython3",
   "version": "3.9.7"
  }
 },
 "nbformat": 4,
 "nbformat_minor": 5
}
