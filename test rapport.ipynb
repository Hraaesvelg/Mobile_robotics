{
 "cells": [
  {
   "cell_type": "markdown",
   "id": "911e98a5",
   "metadata": {},
   "source": [
    "# Rapport Projet BOMR"
   ]
  },
  {
   "cell_type": "markdown",
   "id": "5120d31f",
   "metadata": {},
   "source": [
    "Authors\n",
    "\n",
    "Valentin Suppa-Gallezot   \n",
    "Mehdi El Bouari   \n",
    "Thibault Golaz  \n",
    "Louis Marchand  \n"
   ]
  },
  {
   "cell_type": "markdown",
   "id": "8854e58d",
   "metadata": {},
   "source": [
    "## 0. Introduction"
   ]
  },
  {
   "cell_type": "markdown",
   "id": "f6e94916",
   "metadata": {},
   "source": [
    "### 0.0. Guidlines"
   ]
  },
  {
   "cell_type": "markdown",
   "id": "1227e870",
   "metadata": {},
   "source": [
    "For this project we had to construct and implement a mobile robot able to perform path finding method and movement based on vision-oriented programs. The robot we are using here is a Thymio-II robot.\n",
    "  \n",
    "The code will follow these guidelines:   \n",
    "  \n",
    "•\t**Create an environnment:** Our environnement is made of the thymio detectable thank to 2 green circles, obstacles (represented as black sheets of paper), a target represented by a red square of paper and 3d obstacles used to test local navigation (detected by the thymio sensors).  \n",
    "•\t**Find the best path:** The objective is that the Thymio goes its initial position in the map to a target in the environement.  \n",
    "•\t**Motion control:** To control the robot we use functions to correct the angle and close the position to the next goal that is updated upon reach.  \n",
    "•   **Kalman filter:** In the case where we don't have data from the camera we use, we apply a Kalman filter knowing the last detected/predicted position and the speed given by the robot to compute the next position.  \n",
    "•\t**Local navigation:** While moving, the Thymio has to use local navigation to avoid physical obstacles that can be put in its path at any point in time.  \n"
   ]
  },
  {
   "cell_type": "markdown",
   "id": "7419c9d4",
   "metadata": {},
   "source": [
    "### 0.1. General overview of the code"
   ]
  },
  {
   "cell_type": "markdown",
   "id": "1d47155b",
   "metadata": {},
   "source": [
    "<img src=\"pictures/Diagram.png\" width=700/>"
   ]
  },
  {
   "cell_type": "markdown",
   "id": "4f8a9ef3",
   "metadata": {},
   "source": [
    "## 1. Vision"
   ]
  },
  {
   "cell_type": "markdown",
   "id": "abd1e7b0",
   "metadata": {},
   "source": [
    "### 1.0 Most important function in Vision"
   ]
  },
  {
   "cell_type": "markdown",
   "id": "32de6c51",
   "metadata": {},
   "source": [
    "| Function of Vision | Input | Output |\n",
    "|:------|:------|:------|\n",
    "|`detect_start(image, show=False, begin = True)` |receive a frame when the program starts, show allows to plot the image and begin allows to get only the start_coordinates|An image with a white rectangle on the two circles of the thymio and the start coordinates|\n",
    "|`detect_target(image)`|receive a frame when the program starts|An image with a white rectangle on the target and the coordinates of the target|\n",
    "|`detect_obstacle(image)`|receive an image with white rectangle on the start and the target|corner coordinates of each obstacle|"
   ]
  },
  {
   "cell_type": "markdown",
   "id": "5f9be852",
   "metadata": {},
   "source": [
    "### 1.1. Start and target Detection "
   ]
  },
  {
   "cell_type": "markdown",
   "id": "99ec63ab",
   "metadata": {},
   "source": [
    "In order to obtain the starting point and the target point, we used two colored circles (1 blue and 1 green) of different sizes. These two circles are placed on the robot. At the beginning of the program, a picture of the scene is taken. Using the library opencv and more precisely the function template matching the center of the two circles are detected. Then by just computing the middle of these centers the center of the thymio (called starting point in the program is detected). Two circles are needed because in the following of the code it will allow to compute the orientation of the thymio  \n",
    "The same method is used to get the target but a red rectangle is used instead."
   ]
  },
  {
   "cell_type": "code",
   "execution_count": 4,
   "id": "616ff01c",
   "metadata": {},
   "outputs": [],
   "source": [
    "### code refer"
   ]
  },
  {
   "cell_type": "markdown",
   "id": "f347f145",
   "metadata": {},
   "source": [
    "Since the starting point and the goal are detected it is time to compute the coordinates of the obstacle on the map. In our project the obstacles are black 2 dimensions shapes. They are positionned randomly on the field. In order to detect them the image is converted in black and white. To avoid some risk of confusion with the shapes on the thymio and the one for the target, white rectangles are drawn on them. Then, after applying the threshold, the obstacle are detected (#plot image). By using an opencv function, the coordinates of the contours are found. Finaylly by following the steps of this link https://stackoverflow.com/questions/50984205/how-to-find-corners-points-of-a-shape-in-an-image-in-opencv every corner coordinates of each shape are stored in a array. It will be helpful to compute the visibility graph.  "
   ]
  },
  {
   "cell_type": "markdown",
   "id": "0aae187d",
   "metadata": {},
   "source": [
    "## Global Navigation "
   ]
  },
  {
   "cell_type": "markdown",
   "id": "db906a16",
   "metadata": {},
   "source": [
    "### 2.0. Main functions "
   ]
  },
  {
   "cell_type": "markdown",
   "id": "ed75533f",
   "metadata": {},
   "source": [
    "This part of the code is the second step of our code, its goal is to compute the shortest path from the starting position of the thymio to the target while avoiding obstacles. All the elements used in this part are given by the vision part of the code they are transmitted as points."
   ]
  },
  {
   "cell_type": "markdown",
   "id": "56f6f3ab",
   "metadata": {},
   "source": [
    "| Function of Global Navigation | Input | Output |\n",
    "|:------|:------|:------|\n",
    "|`build_vis_graph(shapes, start, target)` |Takes a list of points representing the contours of the obstacles and two points standing for the starting and finishing goal of the path. The path is made using pyVisgraph library and avoid obstacle using a visibility graph and a djisktra algorithm |The shortest path in the form of a list of points and the shapes representing the obstacles (also represented as points|\n"
   ]
  },
  {
   "cell_type": "markdown",
   "id": "0c40b445",
   "metadata": {},
   "source": [
    "<u>Links of interest:</u>  \n",
    "    - PyVisgraph library: https://github.com/TaipanRex/pyvisgraph  \n",
    "    - D.T. Lee : https://taipanrex.github.io/2016/10/19/Distance-Tables-Part-2-Lees-Visibility-Graph-Algorithm.html  "
   ]
  },
  {
   "cell_type": "markdown",
   "id": "15dd25bb",
   "metadata": {},
   "source": [
    "### 2.1. PyVisgraph library "
   ]
  },
  {
   "cell_type": "markdown",
   "id": "996ecfdc",
   "metadata": {},
   "source": [
    "Given a set of simple obstacle polygons, build a visibility graph and find the shortest path between two points.\n",
    "Pyvisgraph is a MIT-licensed Python package for building visibility graphs from a list of simple obstacle polygons. The visibility graph algorithm (D.T. Lee) runs in O(n^2 log n) time. The shortest path is found using Djikstra's algorithm."
   ]
  },
  {
   "cell_type": "code",
   "execution_count": null,
   "id": "e2d6a16b",
   "metadata": {},
   "outputs": [],
   "source": []
  },
  {
   "cell_type": "code",
   "execution_count": null,
   "id": "608105f3",
   "metadata": {},
   "outputs": [],
   "source": []
  },
  {
   "cell_type": "markdown",
   "id": "d9b54078",
   "metadata": {},
   "source": [
    "##  Motion Control"
   ]
  },
  {
   "cell_type": "markdown",
   "id": "aae43b7d",
   "metadata": {},
   "source": [
    "### Astolfi Controller"
   ]
  },
  {
   "attachments": {
    "Astolfi_schema.PNG": {
     "image/png": "[encoded data removed]"
    }
   },
   "cell_type": "markdown",
   "id": "84b3312e",
   "metadata": {},
   "source": [
    "For the motion controller of the thymio, we opted for an Astolfi controller, which takes as input the coordinates of the thymio, its orientation, and the coordinates of the target location.\n",
    "It then computes the following coordinates :\n",
    "- $\\rho$ : the distance from the thymio to the goal.\n",
    "- $\\alpha$ : the angle between the straight direction from the thymio to the goal, and the direction along thymio's orientation.\n",
    "- $\\beta$ : the orientation of the vector leading from the thymio to the goal.\n",
    "\n",
    "These three coordinates can be seen in the image below:\n",
    "\n",
    "![Astolfi_schema.PNG](attachment:Astolfi_schema.PNG)\n",
    "\n",
    "and they can be computed with the following relationships :\n",
    "\n",
    "\\begin{cases}  \n",
    "\\rho= \\sqrt{\\Delta x^2 + \\Delta y^2} \\\\\n",
    "\\alpha = - \\theta + atan2(\\Delta y, \\Delta x)  \\\\\n",
    "\\beta = - \\theta - \\alpha\n",
    "\\end{cases} \n",
    "\n",
    "where :\n",
    "- $\\Delta$x : the distance on the x axis from the thymio to the goal.\n",
    "- $\\Delta$y : the distance on the y axis from the thymio to the goal.\n",
    "- $\\theta$ : orientation of the thymio.\n",
    "\n",
    "It can be shown that the control law : $v=k_\\rho \\times \\rho$ and $\\omega=k_\\beta \\times \\beta + k_\\alpha \\times \\alpha$ yields a closed loop system with a unique equilibrium point at $(\\rho,\\alpha,\\beta)=(0,0,0)$, which are the coordinates we want to reach, and that this system is exponentially stable if: $k_\\rho>0$, $k_\\beta<0$, and $k_\\alpha-k_\\rho>0$. this set of equation had to be slighlty modified to take into account the flipped y-axis when working directly with pixels.\n",
    "\n",
    "In our implementation of the Astolfi controller, we chose the coefficient $k_\\beta$ to be as close to zero as possible, since this coefficient only affects the orientation of the thymio when it reaches its destination, which doesn't matter in the scope of our project. we also established a distance threshold so the thymio detects when it reaches its destination, and an angle threshold to avoid too much \"zig-zagging\". Lastly, since the speed is directly proportional to $\\rho$, we had to establish and upper and lower limit to the speed in order to avoid speeds that are either too high or too low."
   ]
  },
  {
   "cell_type": "code",
   "execution_count": null,
   "id": "17919738",
   "metadata": {
    "ExecuteTime": {
     "end_time": "2022-12-09T20:08:22.353639Z",
     "start_time": "2022-12-09T20:08:22.353639Z"
    },
    "code_folding": []
   },
   "outputs": [],
   "source": [
    "'''controller constants to tune accordingly'''\n",
    "kp = 0.5  # >0\n",
    "ka = 25  # > kp\n",
    "kb = -0.01  # <0\n",
    "\n",
    "'''speed limits and sensors thresholds to tune accordingly'''\n",
    "v_max = 200\n",
    "v_min = 20\n",
    "thres_arrived = 50\n",
    "angle_thres = 0.17\n",
    "obstSpeedGain = np.array([6,4,-2,-6,-8])/100\n",
    "\n",
    "'''Controller function'''\n",
    "def astolfi(pos, theta, target, node, client):\n",
    "    state = 0  # this functions is called recursivly untill state=1 i.e. the thymio has arrived\n",
    "    delta_pos = [target[0] - pos[0], -(target[1] - pos[1])]\n",
    "    rho = np.linalg.norm(delta_pos)\n",
    "    alpha = -theta - np.arctan2(delta_pos[1], delta_pos[0])\n",
    "    if alpha>np.pi:\n",
    "        alpha-=2*np.pi\n",
    "    elif alpha<-np.pi:\n",
    "        alpha+=2*np.pi\n",
    "    beta = theta - alpha\n",
    "    if beta>np.pi:\n",
    "        beta-=2*np.pi\n",
    "    elif beta<-np.pi:\n",
    "        beta+=2*np.pi\n",
    "    sensors= np.array(get_prox_sensors(node, client)[0:5])\n",
    "    vit_obst_left=np.sum(np.multiply(sensors,obstSpeedGain))\n",
    "    vit_obst_right=np.sum(np.multiply(sensors,np.flip(obstSpeedGain)))\n",
    "    #print(\"teta=\",theta,\"  alpa=\",alpha,\"  beta=\",beta,\"  rho=\",rho) #prints to debug\n",
    "    \n",
    "    if (alpha>angle_thres):\n",
    "        omega = ka * alpha + kb * beta\n",
    "    else: \n",
    "        omega=kb*beta\n",
    "    \n",
    "    omega = ka * alpha + kb * beta\n",
    "    if rho > thres_arrived:\n",
    "        v = kp * rho\n",
    "        if v > v_max: v = v_max\n",
    "        if v < v_min: v = v_min\n",
    "    else:\n",
    "        v = 0\n",
    "        state = 1\n",
    "    left_speed = v - omega + vit_obst_left\n",
    "    right_speed = v + omega + vit_obst_right\n",
    "    set_motor_speed(int(right_speed), int(left_speed), node)\n",
    "    return state"
   ]
  },
  {
   "cell_type": "markdown",
   "id": "d8c0f3a2",
   "metadata": {},
   "source": [
    "### Auxiliary control functions"
   ]
  },
  {
   "cell_type": "markdown",
   "id": "4da9fd49",
   "metadata": {},
   "source": [
    "\n",
    "We also created some auxiliary motion control functions to help control the thymio, which will be quickly described in the following section:"
   ]
  },
  {
   "cell_type": "markdown",
   "id": "224b84b4",
   "metadata": {},
   "source": [
    "## Local obstacle avoidance"
   ]
  },
  {
   "cell_type": "markdown",
   "id": "72d254eb",
   "metadata": {},
   "source": [
    "The local obstacle avoidance was directly implemented in the thymios's controller by means of potential fields.\n",
    "In the \"astolfi\" function displayed in the previous section,"
   ]
  },
  {
   "cell_type": "markdown",
   "id": "287aca8f",
   "metadata": {},
   "source": [
    "## Filtering"
   ]
  },
  {
   "cell_type": "markdown",
   "id": "8ac7cb61",
   "metadata": {},
   "source": [
    "## Conclusion"
   ]
  },
  {
   "cell_type": "code",
   "execution_count": null,
   "id": "5b6bddcc",
   "metadata": {},
   "outputs": [],
   "source": []
  }
 ],
 "metadata": {
  "hide_input": false,
  "kernelspec": {
   "display_name": "Python 3 (ipykernel)",
   "language": "python",
   "name": "python3"
  },
  "language_info": {
   "codemirror_mode": {
    "name": "ipython",
    "version": 3
   },
   "file_extension": ".py",
   "mimetype": "text/x-python",
   "name": "python",
   "nbconvert_exporter": "python",
   "pygments_lexer": "ipython3",
   "version": "3.10.7"
  },
  "toc": {
   "base_numbering": 1,
   "nav_menu": {},
   "number_sections": true,
   "sideBar": true,
   "skip_h1_title": false,
   "title_cell": "Table of Contents",
   "title_sidebar": "Contents",
   "toc_cell": false,
   "toc_position": {},
   "toc_section_display": true,
   "toc_window_display": false
  }
 },
 "nbformat": 4,
 "nbformat_minor": 5
}
