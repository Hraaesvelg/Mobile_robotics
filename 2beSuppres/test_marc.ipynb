{
 "cells": [
  {
   "cell_type": "code",
   "execution_count": 22,
   "id": "000cfae0",
   "metadata": {},
   "outputs": [],
   "source": [
    "import cv2\n",
    "import numpy as np\n",
    "import pyvisgraph as vis\n",
    "from geopandas import GeoSeries\n",
    "from shapely.geometry import Polygon, Point, LineString"
   ]
  },
  {
   "cell_type": "code",
   "execution_count": 23,
   "id": "49065800",
   "metadata": {},
   "outputs": [],
   "source": [
    "img = cv2.imread('pictures/shapes3.jpg')\n",
    "gray = cv2.cvtColor(img, cv2.COLOR_BGR2GRAY)\n",
    "\n",
    "ret,thresh = cv2.threshold(gray,80,255,0)\n",
    "contours,hierarchy = cv2.findContours(thresh, 1, 2)\n",
    "coin = []\n",
    "for cnt in contours:\n",
    "    x1,y1 = cnt[0][0]\n",
    "    approx = cv2.approxPolyDP(cnt, 0.01*cv2.arcLength(cnt, True), True)\n",
    "    coin.append(approx)\n",
    "    if len(approx) == 4:\n",
    "        x, y, w, h = cv2.boundingRect(cnt)\n",
    "        ratio = float(w)/h\n",
    "        img = cv2.drawContours(img, [cnt], -1, (0,255,255), 3)\n",
    "    else:\n",
    "        img = cv2.drawContours(img, [cnt], -1, (0,255,255), 3)\n",
    "        \n",
    "cv2.imshow(\"Shapes\", img)\n",
    "cv2.waitKey(0)\n",
    "cv2.destroyAllWindows()"
   ]
  },
  {
   "cell_type": "code",
   "execution_count": 24,
   "id": "5ccb0f88",
   "metadata": {},
   "outputs": [
    {
     "name": "stderr",
     "output_type": "stream",
     "text": [
      "100%|████████████████████████████████████████████████████████████████████████████████████| 3/3 [00:00<00:00, 87.55it/s]"
     ]
    },
    {
     "name": "stdout",
     "output_type": "stream",
     "text": [
      "[Point(10.00, 10.00), Point(112.00, 148.00), Point(229.00, 271.00), Point(299.00, 399.00), Point(350.00, 350.00)]\n"
     ]
    },
    {
     "name": "stderr",
     "output_type": "stream",
     "text": [
      "\n"
     ]
    }
   ],
   "source": [
    "start = vis.Point(str(10), str(10))\n",
    "target = vis.Point(str(350), str(350))\n",
    "\n",
    "listPoints = []\n",
    "for i in range(len(coin)):\n",
    "    obstacle = []\n",
    "    for j in range(len(coin[i])):\n",
    "        obstacle.append(vis.Point(coin[i][j][0][0], coin[i][j][0][1]))\n",
    "    obstacle.append(vis.Point(coin[i][0][0][0], coin[i][0][0][1]))\n",
    "    listPoints.append(obstacle)\n",
    "    \n",
    "graph = vis.VisGraph()\n",
    "graph.build(listPoints)\n",
    "shortest_path = graph.shortest_path(start, target)\n",
    "    \n",
    "print(shortest_path)"
   ]
  },
  {
   "cell_type": "code",
   "execution_count": 9,
   "id": "84e7f152",
   "metadata": {},
   "outputs": [
    {
     "ename": "NameError",
     "evalue": "name 'shortest_path' is not defined",
     "output_type": "error",
     "traceback": [
      "\u001b[1;31m---------------------------------------------------------------------------\u001b[0m",
      "\u001b[1;31mNameError\u001b[0m                                 Traceback (most recent call last)",
      "\u001b[1;32m~\\AppData\\Local\\Temp/ipykernel_8884/3546756811.py\u001b[0m in \u001b[0;36m<module>\u001b[1;34m\u001b[0m\n\u001b[1;32m----> 1\u001b[1;33m \u001b[1;32mfor\u001b[0m \u001b[0mi\u001b[0m \u001b[1;32min\u001b[0m \u001b[0mrange\u001b[0m\u001b[1;33m(\u001b[0m\u001b[0mlen\u001b[0m\u001b[1;33m(\u001b[0m\u001b[0mshortest_path\u001b[0m \u001b[1;33m)\u001b[0m \u001b[1;33m-\u001b[0m\u001b[1;36m1\u001b[0m\u001b[1;33m)\u001b[0m\u001b[1;33m:\u001b[0m\u001b[1;33m\u001b[0m\u001b[1;33m\u001b[0m\u001b[0m\n\u001b[0m\u001b[0;32m      2\u001b[0m     cv2.line(img, (int(shortest_path[i].x), int(shortest_path[i].y)), (int(shortest_path[ i +1].x), int(shortest_path[i+1].y)),\n\u001b[0;32m      3\u001b[0m              (255, 0, 0), thickness=5)\n",
      "\u001b[1;31mNameError\u001b[0m: name 'shortest_path' is not defined"
     ]
    }
   ],
   "source": [
    "for i in range(len(shortest_path ) -1):\n",
    "    cv2.line(img, (int(shortest_path[i].x), int(shortest_path[i].y)), (int(shortest_path[ i +1].x), int(shortest_path[i+1].y)),\n",
    "             (255, 0, 0), thickness=5)"
   ]
  },
  {
   "cell_type": "code",
   "execution_count": 14,
   "id": "291d29f5",
   "metadata": {},
   "outputs": [],
   "source": [
    "listCenters = []\n",
    "for i in coin:\n",
    "    M = cv2.moments(i)\n",
    "    if M['m00'] != 0:\n",
    "        cx = int(M['m10']/M['m00'])\n",
    "        cy = int(M['m01']/M['m00'])\n",
    "        cv2.circle(img, (cx, cy), 7, (0, 0, 255), -1)\n",
    "        listCenters.append([cx,cy])"
   ]
  },
  {
   "cell_type": "code",
   "execution_count": 15,
   "id": "aa966ec3",
   "metadata": {},
   "outputs": [],
   "source": [
    "margin = 30\n",
    "marged_coin = []\n",
    "for i in range(len(coin)):\n",
    "    center = listCenters[i]\n",
    "    new_coin = []\n",
    "    for j in range(len(coin[i])):\n",
    "        vect = (coin[i][j][0] - center)/np.linalg.norm(coin[i][j][0] - center)\n",
    "        new_coin.append(coin[i][j][0]+ margin*vect)\n",
    "    marged_coin.append(new_coin)\n"
   ]
  },
  {
   "cell_type": "code",
   "execution_count": 16,
   "id": "37ff641b",
   "metadata": {},
   "outputs": [
    {
     "name": "stderr",
     "output_type": "stream",
     "text": [
      "100%|███████████████████████████████████████████████████████████████████████████████████| 2/2 [00:00<00:00, 112.92it/s]"
     ]
    },
    {
     "name": "stdout",
     "output_type": "stream",
     "text": [
      "[Point(10.00, 10.00), Point(96.01, 162.83), Point(140.97, 227.61), Point(350.00, 350.00)]\n"
     ]
    },
    {
     "name": "stderr",
     "output_type": "stream",
     "text": [
      "\n"
     ]
    }
   ],
   "source": [
    "start = vis.Point(str(10), str(10))\n",
    "target = vis.Point(str(350), str(350))\n",
    "\n",
    "listPoints = []\n",
    "for i in range(len(marged_coin)):\n",
    "    obstacle = []\n",
    "    for j in range(len(marged_coin[i])):\n",
    "        obstacle.append(vis.Point(marged_coin[i][j][0], marged_coin[i][j][1]))\n",
    "    obstacle.append(vis.Point(marged_coin[i][0][0], marged_coin[i][0][1]))\n",
    "    listPoints.append(obstacle)\n",
    "    \n",
    "graph = vis.VisGraph()\n",
    "graph.build(listPoints)\n",
    "shortest_path = graph.shortest_path(start, target)\n",
    "    \n",
    "print(shortest_path)"
   ]
  },
  {
   "cell_type": "code",
   "execution_count": 17,
   "id": "81c77f0c",
   "metadata": {},
   "outputs": [],
   "source": [
    "for i in range(len(shortest_path ) -1):\n",
    "    cv2.line(img, (int(shortest_path[i].x), int(shortest_path[i].y)), (int(shortest_path[ i +1].x), int(shortest_path[i+1].y)),\n",
    "             (0, 255, 0), thickness=5)\n",
    "\n",
    "cv2.imshow(\"Shapes\", img)\n",
    "cv2.waitKey(0)\n",
    "cv2.destroyAllWindows()"
   ]
  },
  {
   "cell_type": "code",
   "execution_count": 38,
   "id": "3e1c0935",
   "metadata": {},
   "outputs": [],
   "source": [
    "def detect_obstacle(img, margin, show):\n",
    "    gray = cv2.cvtColor(img, cv2.COLOR_BGR2GRAY)\n",
    "\n",
    "    ret,thresh = cv2.threshold(gray,80,255,0)\n",
    "    contours,hierarchy = cv2.findContours(thresh, 1, 2)\n",
    "    coin = []\n",
    "    for cnt in contours:\n",
    "        x1,y1 = cnt[0][0]\n",
    "        approx = cv2.approxPolyDP(cnt, 0.01*cv2.arcLength(cnt, True), True)\n",
    "        coin.append(approx)\n",
    "        if show:\n",
    "            img = cv2.drawContours(img, [cnt], -1, (0,255,255), 3)\n",
    "            \n",
    "    listCenters = []\n",
    "    for i in coin:\n",
    "        M = cv2.moments(i)\n",
    "        if M['m00'] != 0:\n",
    "            cx = int(M['m10']/M['m00'])\n",
    "            cy = int(M['m01']/M['m00'])\n",
    "            cv2.circle(img, (cx, cy), 7, (0, 0, 255), -1)\n",
    "            listCenters.append([cx,cy])\n",
    "\n",
    "    marged_coin = []\n",
    "    for i in range(len(coin)):\n",
    "        center = listCenters[i]\n",
    "        new_coin = []\n",
    "        for j in range(len(coin[i])):\n",
    "            vect = (coin[i][j][0] - center)/np.linalg.norm(coin[i][j][0] - center)\n",
    "            new_coin.append(coin[i][j][0]+ margin*vect)\n",
    "        marged_coin.append(new_coin)\n",
    "    \n",
    "    for i in range(len(marged_coin)):\n",
    "        for j in range(len(marged_coin[i])):\n",
    "            img = cv2.circle(img, (int(marged_coin[i][j][0]), int(marged_coin[i][j][0])), 7, (0, 0, 255), -1)\n",
    "\n",
    "    return marged_coin"
   ]
  },
  {
   "cell_type": "code",
   "execution_count": 39,
   "id": "37dc268e",
   "metadata": {},
   "outputs": [],
   "source": [
    "def make_path(img, start, goal, obstacle, show):\n",
    "    listPoints = []\n",
    "    for i in range(len(obstacle)):\n",
    "        obst = []\n",
    "        for j in range(len(obstacle[i])):\n",
    "            obstacle.append(vis.Point(obstacle[i][j][0], obstacle[i][j][1]))\n",
    "        obst.append(vis.Point(obstacle[i][0][0], obstacle[i][0][1]))\n",
    "        listPoints.append(obst)\n",
    "\n",
    "    graph = vis.VisGraph()\n",
    "    graph.build(listPoints)\n",
    "    shortest_path = graph.shortest_path(start, target)\n",
    "\n",
    "    if show:\n",
    "        for i in range(len(shortest_path ) -1):\n",
    "            cv2.line(img, (int(shortest_path[i].x), int(shortest_path[i].y)), (int(shortest_path[ i +1].x), int(shortest_path[i+1].y)),\n",
    "                     (0, 255, 0), thickness=5)\n",
    "\n",
    "    return img, shortest_path"
   ]
  },
  {
   "cell_type": "code",
   "execution_count": 40,
   "id": "bfa02b54",
   "metadata": {},
   "outputs": [
    {
     "name": "stderr",
     "output_type": "stream",
     "text": [
      "100%|████████████████████████████████████████████████████████████████████████████████████████████| 1/1 [00:00<?, ?it/s]\n"
     ]
    }
   ],
   "source": [
    "start = vis.Point(str(10), str(10))\n",
    "target = vis.Point(str(350), str(350))\n",
    "\n",
    "img = cv2.imread('shapes3.jpg')\n",
    "coin = detect_obstacle(img, 30, True)\n",
    "img, shortest = make_path(img, start, target, coin, True)\n",
    "\n",
    "cv2.imshow(\"Shapes\", img)\n",
    "cv2.waitKey(0)\n",
    "cv2.destroyAllWindows()"
   ]
  },
  {
   "cell_type": "code",
   "execution_count": null,
   "id": "49642acd",
   "metadata": {},
   "outputs": [],
   "source": []
  }
 ],
 "metadata": {
  "kernelspec": {
   "display_name": "Python 3 (ipykernel)",
   "language": "python",
   "name": "python3"
  },
  "language_info": {
   "codemirror_mode": {
    "name": "ipython",
    "version": 3
   },
   "file_extension": ".py",
   "mimetype": "text/x-python",
   "name": "python",
   "nbconvert_exporter": "python",
   "pygments_lexer": "ipython3",
   "version": "3.9.7"
  }
 },
 "nbformat": 4,
 "nbformat_minor": 5
}
