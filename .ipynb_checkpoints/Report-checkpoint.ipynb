{
 "cells": [
  {
   "cell_type": "code",
   "execution_count": 1,
   "id": "b1725c2f",
   "metadata": {},
   "outputs": [
    {
     "data": {
      "text/plain": [
       "Node 02bda1e5-0537-481e-9261-b705b85930bd"
      ]
     },
     "execution_count": 1,
     "metadata": {},
     "output_type": "execute_result"
    }
   ],
   "source": [
    "#lancer la communication asynchrone avec thymio\n",
    "from tdmclient import ClientAsync, aw\n",
    "client = ClientAsync()\n",
    "node = await client.wait_for_node()\n",
    "await node.lock()"
   ]
  },
  {
   "cell_type": "code",
   "execution_count": 2,
   "id": "acbdeefa",
   "metadata": {},
   "outputs": [],
   "source": [
    "# Premade libraries\n",
    "import cv2\n",
    "import time\n",
    "import numpy as np\n",
    "from matplotlib import pyplot as plt\n",
    "from shapely.geometry import Polygon, Point, LineString"
   ]
  },
  {
   "cell_type": "code",
   "execution_count": 3,
   "id": "18676907",
   "metadata": {},
   "outputs": [],
   "source": [
    "# Homemade functions\n",
    "import Vision.vision as vs\n",
    "import Global_Navigation.robot as rbt\n",
    "import Global_Navigation.global_navigation as glb\n",
    "import Motion_Control.thymio_control as ctrl"
   ]
  },
  {
   "cell_type": "code",
   "execution_count": null,
   "id": "2892bf44",
   "metadata": {},
   "outputs": [],
   "source": [
    "# Main\n",
    "# Data\n",
    "margin = 30\n",
    "\n",
    "# Initialisation\n",
    "# Create an instance of our robot\n",
    "thymio = rbt.RobotNav()\n",
    "# Start the video capture\n",
    "cap = cv2.VideoCapture(1)"
   ]
  },
  {
   "cell_type": "code",
   "execution_count": null,
   "id": "086c2d83",
   "metadata": {},
   "outputs": [],
   "source": [
    "while cap.isOpened():\n",
    "    ret, frame = cap.read()\n",
    "    if thymio.get_state() == 0:\n",
    "        thymio.initialisation_step(frame, margin, True)\n",
    "        thymio.increase_step()\n",
    "        thymio.set_state(1)\n",
    "    elif thymio.get_state() == 1:\n",
    "        # We use the position determined by the camera\n",
    "        position, st = vs.detect_start(frame, False, False)\n",
    "        frame = glb.draw_thymio(frame, position)\n",
    "        frame = glb.draw_path(frame, thymio.get_path())\n",
    "        # We update the position of the robot\n",
    "        if position is not None:\n",
    "            thymio.update_position_cam(st)\n",
    "        else:\n",
    "            thymio.update_position_kalman()\n",
    "        \"\"\"\n",
    "        # We check if the robot encounter an obstacle\n",
    "            to be implemented\n",
    "        \"\"\"\n",
    "        # We try to reach the next goal\n",
    "        geometry = thymio.get_geometry()\n",
    "        step = thymio.get_crt_step()\n",
    "        path = thymio.get_path()\n",
    "        #ctrl.astolfi((geometry[0], geometry[1]), geometry[2], path[step], node) \n",
    "        print(path[step])\n",
    "        thymio.update_step_respo(15, False)\n",
    "\n",
    "    elif thymio.get_state() == 2:\n",
    "        ctrl.stop_motors(node)\n",
    "        ctrl.leds_blink(node)\n",
    "        print('out')\n",
    "        break # Exits the code\n",
    "\n",
    "\n",
    "    cv2.imshow('frame', frame)\n",
    "    if cv2.waitKey(1) == ord('q'):\n",
    "        break\n",
    "\n",
    "cap.release()\n",
    "cv2.destroyAllWindows()\n",
    "\n"
   ]
  },
  {
   "cell_type": "code",
   "execution_count": 7,
   "id": "58d02ea9",
   "metadata": {},
   "outputs": [],
   "source": [
    "ctrl.stop_motors(node)"
   ]
  },
  {
   "cell_type": "code",
   "execution_count": null,
   "id": "c294167c",
   "metadata": {},
   "outputs": [],
   "source": []
  }
 ],
 "metadata": {
  "kernelspec": {
   "display_name": "Python 3 (ipykernel)",
   "language": "python",
   "name": "python3"
  },
  "language_info": {
   "codemirror_mode": {
    "name": "ipython",
    "version": 3
   },
   "file_extension": ".py",
   "mimetype": "text/x-python",
   "name": "python",
   "nbconvert_exporter": "python",
   "pygments_lexer": "ipython3",
   "version": "3.9.7"
  }
 },
 "nbformat": 4,
 "nbformat_minor": 5
}
