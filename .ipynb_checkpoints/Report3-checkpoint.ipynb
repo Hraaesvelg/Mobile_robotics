{
 "cells": [
  {
   "cell_type": "code",
   "execution_count": 118,
   "id": "7b6d7376",
   "metadata": {},
   "outputs": [
    {
     "data": {
      "text/plain": [
       "Node 02bda1e5-0537-481e-9261-b705b85930bd"
      ]
     },
     "execution_count": 118,
     "metadata": {},
     "output_type": "execute_result"
    }
   ],
   "source": [
    "#lancer la communication asynchrone avec thymio\n",
    "from tdmclient import ClientAsync, aw\n",
    "client = ClientAsync()\n",
    "node = await client.wait_for_node()\n",
    "await node.lock()"
   ]
  },
  {
   "cell_type": "code",
   "execution_count": 20,
   "id": "20ce4e7d",
   "metadata": {},
   "outputs": [],
   "source": [
    "# Premade libraries\n",
    "import cv2\n",
    "import time\n",
    "import math\n",
    "import numpy as np\n",
    "from matplotlib import pyplot as plt\n",
    "from shapely.geometry import Polygon, Point, LineString"
   ]
  },
  {
   "cell_type": "code",
   "execution_count": 21,
   "id": "44bffcb3",
   "metadata": {},
   "outputs": [],
   "source": [
    "# Homemade functions\n",
    "import Vision.vision as vs\n",
    "import robot as rbt\n",
    "import Global_Navigation.global_navigation as glb\n",
    "import Motion_Control.thymio_control as ctrl"
   ]
  },
  {
   "cell_type": "code",
   "execution_count": null,
   "id": "0cbd63b5",
   "metadata": {},
   "outputs": [],
   "source": [
    "cap = cv2.VideoCapture(1)\n",
    "vs.get_image(cap)\n",
    "cap.release()"
   ]
  },
  {
   "cell_type": "code",
   "execution_count": null,
   "id": "87e53ce7",
   "metadata": {},
   "outputs": [],
   "source": [
    "# Main\n",
    "# Data\n",
    "margin = 30\n",
    "\n",
    "# Initialisation\n",
    "# Create an instance of our robot\n",
    "thymio = rbt.RobotNav()\n",
    "# Start the video capture\n",
<<<<<<< HEAD
    "cap = cv2.VideoCapture(0)"
=======
    "cap = cv2.VideoCapture(0)\n",
    "img = vs.get_image(cap)"
>>>>>>> origin/main
   ]
  },
  {
   "cell_type": "code",
   "execution_count": null,
   "id": "760a6022",
   "metadata": {},
   "outputs": [],
   "source": [
    "while cap.isOpened():\n",
    "    ret, frame = cap.read()\n",
    "    if thymio.get_state() == 0:\n",
    "        thymio.initialisation_step(frame, margin, True)\n",
    "        thymio.increase_step()\n",
    "        thymio.set_state(1)\n",
    "    elif thymio.get_state() == 1:\n",
    "        # We use the position determined by the camera\n",
    "        position, st = vs.detect_start(frame, False, False)\n",
    "        frame = glb.draw_thymio(frame, position)\n",
    "        frame = glb.draw_path(frame, thymio.get_path())\n",
    "        # We update the position of the robot\n",
    "        if position is not None:\n",
    "            thymio.update_position_cam(st)\n",
    "        else:\n",
    "            thymio.update_position_kalman()\n",
    "        \"\"\"\n",
    "        # We check if the robot encounter an obstacle\n",
    "            to be implemented\n",
    "        \"\"\"\n",
    "        # We try to reach the next goal\n",
    "        geometry = thymio.get_geometry()\n",
    "        step = thymio.get_crt_step()\n",
    "        path = thymio.get_path()\n",
    "        #ctrl.astolfi((geometry[0], geometry[1]), geometry[2], path[step], node) \n",
    "        #thymio.update_step_respo(15, False)\n",
    "\n",
    "    elif thymio.get_state() == 2:\n",
    "        ctrl.stop_motors(node)\n",
    "        ctrl.leds_blink(node)\n",
    "        print('out')\n",
    "        break # Exits the code\n",
    "\n",
    "\n",
    "    cv2.imshow('frame', frame)\n",
    "    if cv2.waitKey(1) == ord('q'):\n",
    "        break\n",
    "\n",
    "cap.release()\n",
    "cv2.destroyAllWindows()"
   ]
  },
  {
   "cell_type": "code",
   "execution_count": 90,
   "id": "8c3ae54d",
   "metadata": {},
   "outputs": [],
   "source": [
    "ctrl.set_motor_speed(100, -100, node)"
   ]
  },
  {
   "cell_type": "code",
   "execution_count": 106,
   "id": "63124bee",
   "metadata": {},
   "outputs": [],
   "source": [
    "ctrl.stop_motors(node)"
   ]
  },
  {
   "cell_type": "code",
   "execution_count": 37,
   "id": "92f92981",
   "metadata": {},
   "outputs": [],
   "source": [
    "def get_angle2goal(geometry, goal):\n",
    "    \"\"\"\n",
    "    Compute the angle between the curent orientation of the tymio and its next goal\n",
    "    :return: beta the angle btw goal/crt orientation\n",
    "    \"\"\"\n",
    "    beta = math.atan2(goal[1] - geometry[1], goal[0] - geometry[0])\n",
    "    if beta - geometry[2] < -np.pi:\n",
    "        beta = -(beta - geometry[2] + np.pi)\n",
    "    elif beta - geometry[2] > np.pi:\n",
    "        beta = -(beta - geometry[2] - np.pi)\n",
    "    else:\n",
    "        beta = beta - geometry[2]\n",
    "    return beta"
   ]
  },
  {
   "cell_type": "code",
   "execution_count": 56,
   "id": "bc1ac25f",
   "metadata": {},
   "outputs": [],
   "source": [
    "def get_correct_orientation(beta, node, speed, tol):\n",
    "    if abs(beta) < tol:\n",
    "        print(\"right angle\")\n",
    "        ctrl.stop_motors(node)\n",
    "        return(True)\n",
    "    if beta < 0 :\n",
    "        ctrl.set_motor_speed(speed, -speed, node)\n",
    "        return(False)\n",
    "    elif beta > 0:\n",
    "        ctrl.set_motor_speed(-speed, speed, node)\n",
    "        return(False)"
   ]
  },
  {
   "cell_type": "code",
   "execution_count": 70,
   "id": "c9beae07",
   "metadata": {},
   "outputs": [],
   "source": [
    "def get_distance(pos, goal, tol, speed, node):\n",
    "    dist = np.linalg.norm((goal[0]-pos[0], goal[1]-pos[1]))\n",
    "    if dist < tol:\n",
    "        ctrl.stop_motors(node)\n",
    "        return True\n",
    "    else:\n",
    "        ctrl.set_motor_speed(speed, speed, node)\n",
    "        return False"
   ]
  },
  {
   "cell_type": "code",
   "execution_count": 119,
   "id": "d2d92fd9",
   "metadata": {},
   "outputs": [
    {
     "name": "stdout",
     "output_type": "stream",
     "text": [
      "0.7853981633974483\n",
      "0.7853981633974483\n",
      "0.6853981633974483\n",
      "0.5853981633974483\n",
      "0.48539816339744835\n",
      "0.38539816339744837\n",
      "0.2853981633974484\n",
      "0.18539816339744838\n",
      "[0, 0]\n",
      "[1, 1]\n",
      "[2, 2]\n",
      "[3, 3]\n",
      "[4, 4]\n",
      "[5, 5]\n",
      "[6, 6]\n",
      "[7, 7]\n",
      "[8, 8]\n",
      "[9, 9]\n"
     ]
    }
   ],
   "source": [
    "speed = 50\n",
    "tol = 0.1\n",
    "\n",
    "geometry = (0,0,0)\n",
    "goal = (10,10)\n",
    "beta = get_angle2goal(geometry, goal)\n",
    "print(beta)\n",
    "pos = [geometry[0], geometry[1]]\n",
    "\n",
    "while(abs(beta) > tol):\n",
    "    print(beta)\n",
    "    get_correct_orientation(beta, node, speed, tol)\n",
    "    beta = beta - 0.1\n",
    "ctrl.stop_motors(node)\n",
    "\n",
    "while(np.linalg.norm((goal[0]-pos[0], goal[1]-pos[1]))):\n",
    "    print(pos)\n",
    "    pos[0] = pos[0] + 1\n",
    "    pos[1] = pos[1] + 1\n",
    "    get_distance(pos,goal,1,speed,node)\n"
   ]
  },
  {
   "cell_type": "code",
   "execution_count": null,
   "id": "5a44c859",
   "metadata": {},
   "outputs": [],
   "source": []
  },
  {
   "cell_type": "code",
   "execution_count": null,
   "id": "16da6353",
   "metadata": {},
   "outputs": [],
   "source": []
  },
  {
   "cell_type": "code",
   "execution_count": null,
   "id": "2a3086de",
   "metadata": {},
   "outputs": [],
   "source": []
  }
 ],
 "metadata": {
  "kernelspec": {
   "display_name": "Python 3 (ipykernel)",
   "language": "python",
   "name": "python3"
  },
  "language_info": {
   "codemirror_mode": {
    "name": "ipython",
    "version": 3
   },
   "file_extension": ".py",
   "mimetype": "text/x-python",
   "name": "python",
   "nbconvert_exporter": "python",
   "pygments_lexer": "ipython3",
   "version": "3.9.7"
  }
 },
 "nbformat": 4,
 "nbformat_minor": 5
}
